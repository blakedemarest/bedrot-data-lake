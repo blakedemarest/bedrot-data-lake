{
 "cells": [
  {
   "cell_type": "code",
   "execution_count": 1,
   "id": "d12ce873",
   "metadata": {},
   "outputs": [],
   "source": [
    "# ─── Cell 1: Imports & Environment Setup ────────────────────────────────────────\n",
    "import os, re, json, hashlib, shutil\n",
    "from pathlib import Path\n",
    "from datetime import datetime\n",
    "from dotenv import load_dotenv\n",
    "\n",
    "load_dotenv()\n",
    "PROJECT_ROOT = Path(os.getenv(\"PROJECT_ROOT\"))\n",
    "LANDING      = PROJECT_ROOT / os.getenv(\"LANDING_ZONE\", \"landing\")\n",
    "RAW          = PROJECT_ROOT / os.getenv(\"RAW_ZONE\",     \"raw\")\n"
   ]
  },
  {
   "cell_type": "code",
   "execution_count": 2,
   "id": "d8dbe38f",
   "metadata": {},
   "outputs": [],
   "source": [
    "# ─── Cell 2: Validation Helpers (HTML & TSV) ────────────────────────────────────\n",
    "streams_re = re.compile(r'\"trend365day\".*?\"dataProvider\"\\s*:\\s*\\[(.*?)\\]', re.DOTALL)\n",
    "apple_re   = re.compile(r'var\\s+chartData\\s*=\\s*([\\s\\S]+?);\\s*\\n', re.MULTILINE)\n",
    "\n",
    "def _html_ok(path: Path, pattern: re.Pattern) -> bool:\n",
    "    txt = path.read_text(encoding=\"utf-8\", errors=\"ignore\")\n",
    "    return bool(pattern.search(txt))\n",
    "\n",
    "def validate_streams_html(p: Path):\n",
    "    if not _html_ok(p, streams_re): return False, \"trend365day block missing\"\n",
    "    return True, \"OK\"\n",
    "\n",
    "def validate_apple_html(p: Path):\n",
    "    if not _html_ok(p, apple_re):   return False, \"chartData block missing\"\n",
    "    return True, \"OK\"\n",
    "\n",
    "def validate_tsv(p: Path):\n",
    "    return p.stat().st_size > 0, \"empty file\" if p.stat().st_size == 0 else \"OK\"\n"
   ]
  },
  {
   "cell_type": "code",
   "execution_count": 3,
   "id": "b495f220",
   "metadata": {},
   "outputs": [
    {
     "name": "stdout",
     "output_type": "stream",
     "text": [
      "✅ Promoted 3 new files → RAW\n"
     ]
    }
   ],
   "source": [
    "# ─── Cell 3: Promote Valid Landing Files to RAW ─────────────────────────────────\n",
    "src_dir  = LANDING / \"distrokid\" / \"streams\"\n",
    "raw_dir  = RAW     / \"distrokid\" / \"streams\"\n",
    "finance_dir = RAW  / \"distrokid\" / \"finance\"\n",
    "raw_dir.mkdir(parents=True, exist_ok=True)\n",
    "finance_dir.mkdir(parents=True, exist_ok=True)\n",
    "\n",
    "def _copy_if_new(src: Path, dst_dir: Path):\n",
    "    dst = dst_dir / src.name\n",
    "    if dst.exists() and hashlib.md5(dst.read_bytes()).hexdigest() == hashlib.md5(src.read_bytes()).hexdigest():\n",
    "        return False\n",
    "    if dst.exists():                                           # version duplicate\n",
    "        ts = datetime.now().strftime(\"%Y%m%dT%H%M%S\")\n",
    "        dst = dst_dir / f\"{src.stem}__{ts}{src.suffix}\"\n",
    "    shutil.copy2(src, dst)\n",
    "    return True\n",
    "\n",
    "promoted = []\n",
    "for html in src_dir.glob(\"streams_stats_*.html\"):\n",
    "    ok, msg = validate_streams_html(html)\n",
    "    if ok and _copy_if_new(html, raw_dir): promoted.append(html.name)\n",
    "\n",
    "for html in src_dir.glob(\"applemusic_stats_*.html\"):\n",
    "    ok, msg = validate_apple_html(html)\n",
    "    if ok and _copy_if_new(html, raw_dir): promoted.append(html.name)\n",
    "\n",
    "for tsv in src_dir.glob(\"dk_bank_details_*.tsv\"):\n",
    "    ok, msg = validate_tsv(tsv)\n",
    "    if ok:\n",
    "        csv_tmp = tsv.with_suffix(\".csv\")\n",
    "        import pandas as pd\n",
    "        pd.read_csv(tsv, sep=\"\\t\").to_csv(csv_tmp, index=False)\n",
    "        if _copy_if_new(csv_tmp, finance_dir): promoted.append(csv_tmp.name)\n",
    "        csv_tmp.unlink()\n",
    "\n",
    "print(f\"✅ Promoted {len(promoted)} new files → RAW\")\n"
   ]
  },
  {
   "cell_type": "code",
   "execution_count": null,
   "id": "4c5c6653",
   "metadata": {},
   "outputs": [],
   "source": []
  }
 ],
 "metadata": {
  "kernelspec": {
   "display_name": ".venv",
   "language": "python",
   "name": "python3"
  },
  "language_info": {
   "codemirror_mode": {
    "name": "ipython",
    "version": 3
   },
   "file_extension": ".py",
   "mimetype": "text/x-python",
   "name": "python",
   "nbconvert_exporter": "python",
   "pygments_lexer": "ipython3",
   "version": "3.11.9"
  }
 },
 "nbformat": 4,
 "nbformat_minor": 5
}
