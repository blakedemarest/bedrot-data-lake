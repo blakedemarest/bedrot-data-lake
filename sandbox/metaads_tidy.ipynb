{
 "cells": [
  {
   "cell_type": "code",
   "execution_count": null,
   "id": "39ea78d6",
   "metadata": {},
   "outputs": [],
   "source": [
    "# Cell 1: Setup & auto-detect latest landing folder\n",
    "from pathlib import Path\n",
    "import os\n",
    "import pandas as pd\n",
    "from dotenv import load_dotenv\n",
    "\n",
    "load_dotenv()\n",
    "project_root = Path(os.getenv(\"PROJECT_ROOT\"))\n",
    "landing_dir = project_root / \"landing\"\n",
    "subdirs = [d for d in landing_dir.iterdir() if d.is_dir()]\n",
    "if not subdirs:\n",
    "    raise FileNotFoundError(f\"No landing sub-folders under {landing_dir}\")\n",
    "data_dir = max(subdirs, key=lambda d: d.stat().st_mtime)\n",
    "\n",
    "print(f\"Loading data from: {data_dir}\")\n"
   ]
  },
  {
   "cell_type": "code",
   "execution_count": null,
   "id": "e1979e00",
   "metadata": {},
   "outputs": [],
   "source": [
    "# Cell 2: Load raw JSON dumps\n",
    "ads       = pd.read_json(data_dir / \"ads.json\")\n",
    "adsets    = pd.read_json(data_dir / \"adsets.json\")\n",
    "campaigns = pd.read_json(data_dir / \"campaigns.json\")\n",
    "insights  = pd.read_json(data_dir / \"insights.json\")\n",
    "\n",
    "# Convert key metrics to numeric\n",
    "for col in (\"spend\",\"impressions\",\"clicks\",\"reach\",\"cpc\",\"ctr\",\"frequency\"):\n",
    "    if col in insights.columns:\n",
    "        insights[col] = pd.to_numeric(insights[col], errors=\"coerce\")\n"
   ]
  },
  {
   "cell_type": "code",
   "execution_count": null,
   "id": "a5530ddc",
   "metadata": {},
   "outputs": [],
   "source": [
    "# Cell 3: Flatten ads.json and include campaign_id & adset_id\n",
    "import json\n",
    "\n",
    "ads_flat = ads.copy()\n",
    "\n",
    "# extract creative.id → creative_id\n",
    "ads_flat['creative_id'] = ads_flat['creative'].apply(\n",
    "    lambda c: c.get('id') if isinstance(c, dict) else None\n",
    ")\n",
    "# serialize tracking_specs\n",
    "ads_flat['tracking_specs'] = ads_flat['tracking_specs'].apply(json.dumps)\n",
    "\n",
    "# Keep both campaign_id and adset_id for merging\n",
    "ads_flat = ads_flat[[\n",
    "    'id', 'campaign_id', 'adset_id', 'name', 'status',\n",
    "    'effective_status', 'created_time', 'updated_time',\n",
    "    'creative_id', 'tracking_specs'\n",
    "]].rename(columns={\n",
    "    'id': 'ad_id',\n",
    "    'name': 'ad_name'\n",
    "})\n"
   ]
  },
  {
   "cell_type": "code",
   "execution_count": null,
   "id": "d9e3debd",
   "metadata": {},
   "outputs": [],
   "source": [
    "# Cell 4: Prepare campaigns_ & adsets_ for merge\n",
    "campaigns_ = campaigns.rename(columns={\n",
    "    'id': 'campaign_id',\n",
    "    'name': 'campaign_name',\n",
    "    'status': 'campaign_status',\n",
    "    'objective': 'campaign_objective'\n",
    "})\n",
    "\n",
    "adsets_ = adsets.rename(columns={\n",
    "    'id': 'adset_id',\n",
    "    'name': 'adset_name',\n",
    "    'status': 'adset_status',\n",
    "    'daily_budget': 'adset_daily_budget',\n",
    "    'lifetime_budget': 'adset_lifetime_budget'\n",
    "})\n"
   ]
  },
  {
   "cell_type": "code",
   "execution_count": null,
   "id": "01f38c82",
   "metadata": {},
   "outputs": [],
   "source": [
    "# Cell 5: Build the tidy DataFrame\n",
    "tidy = (\n",
    "    insights\n",
    "      .merge(campaigns_, on='campaign_id', how='left')\n",
    "      .merge(adsets_,    on='adset_id',    how='left')\n",
    "      .merge(ads_flat,   on=['campaign_id','adset_id'], how='left')\n",
    ")\n",
    "\n",
    "# Drop duplicate columns and inspect\n",
    "tidy = tidy.loc[:, ~tidy.columns.duplicated()]\n",
    "print(\"Tidy shape:\", tidy.shape)\n",
    "tidy.head(3)\n"
   ]
  },
  {
   "cell_type": "code",
   "execution_count": null,
   "id": "078ff9c1",
   "metadata": {},
   "outputs": [],
   "source": []
  }
 ],
 "metadata": {
  "kernelspec": {
   "display_name": ".venv",
   "language": "python",
   "name": "python3"
  },
  "language_info": {
   "codemirror_mode": {
    "name": "ipython",
    "version": 3
   },
   "file_extension": ".py",
   "mimetype": "text/x-python",
   "name": "python",
   "nbconvert_exporter": "python",
   "pygments_lexer": "ipython3",
   "version": "3.11.9"
  }
 },
 "nbformat": 4,
 "nbformat_minor": 5
}
