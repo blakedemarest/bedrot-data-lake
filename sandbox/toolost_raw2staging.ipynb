{
 "cells": [
  {
   "cell_type": "code",
   "execution_count": null,
   "id": "a45fc9a0",
   "metadata": {},
   "outputs": [
    {
     "ename": "",
     "evalue": "",
     "output_type": "error",
     "traceback": [
      "\u001b[1;31mThe Kernel crashed while executing code in the current cell or a previous cell. \n",
      "\u001b[1;31mPlease review the code in the cell(s) to identify a possible cause of the failure. \n",
      "\u001b[1;31mClick <a href='https://aka.ms/vscodeJupyterKernelCrash'>here</a> for more info. \n",
      "\u001b[1;31mView Jupyter <a href='command:jupyter.viewOutput'>log</a> for further details."
     ]
    }
   ],
   "source": [
    "# ─── Cell 1: Imports & Environment Setup ────────────────────────────────────────\n",
    "import os, json\n",
    "from pathlib import Path\n",
    "import pandas as pd\n",
    "from dotenv import load_dotenv\n",
    "from IPython.display import display\n",
    "\n",
    "load_dotenv()\n",
    "PROJECT_ROOT = Path(os.getenv(\"PROJECT_ROOT\"))\n",
    "RAW     = PROJECT_ROOT / os.getenv(\"RAW_ZONE\",     \"raw\")\n",
    "STAGING = PROJECT_ROOT / os.getenv(\"STAGING_ZONE\", \"staging\")\n"
   ]
  },
  {
   "cell_type": "code",
   "execution_count": 2,
   "id": "84aa4189",
   "metadata": {},
   "outputs": [
    {
     "name": "stdout",
     "output_type": "stream",
     "text": [
      "Using Spotify file → toolost_spotify_20250529_043724.json\n",
      "Using Apple   file → toolost_apple_20250529_043724.json\n"
     ]
    }
   ],
   "source": [
    "# ─── Cell 2: Locate Latest Spotify & Apple JSONs in RAW ─────────────────────────\n",
    "raw_dir = RAW / \"toolost\" / \"streams\"\n",
    "spotify_files = sorted(raw_dir.glob(\"toolost_spotify_*.json\"), key=lambda p: p.stat().st_mtime, reverse=True)\n",
    "apple_files   = sorted(raw_dir.glob(\"toolost_apple_*.json\")  , key=lambda p: p.stat().st_mtime, reverse=True)\n",
    "assert spotify_files and apple_files, \"No TooLost JSON files found in raw/toolost/streams.\"\n",
    "\n",
    "with spotify_files[0].open(encoding=\"utf-8\") as f:\n",
    "    spotify_data = json.load(f)\n",
    "with apple_files[0].open(encoding=\"utf-8\") as f:\n",
    "    apple_data   = json.load(f)\n",
    "\n",
    "print(f\"Using Spotify file → {spotify_files[0].name}\")\n",
    "print(f\"Using Apple   file → {apple_files [0].name}\")\n"
   ]
  },
  {
   "cell_type": "code",
   "execution_count": 3,
   "id": "0c061f4f",
   "metadata": {},
   "outputs": [
    {
     "data": {
      "text/html": [
       "<div>\n",
       "<style scoped>\n",
       "    .dataframe tbody tr th:only-of-type {\n",
       "        vertical-align: middle;\n",
       "    }\n",
       "\n",
       "    .dataframe tbody tr th {\n",
       "        vertical-align: top;\n",
       "    }\n",
       "\n",
       "    .dataframe thead th {\n",
       "        text-align: right;\n",
       "    }\n",
       "</style>\n",
       "<table border=\"1\" class=\"dataframe\">\n",
       "  <thead>\n",
       "    <tr style=\"text-align: right;\">\n",
       "      <th></th>\n",
       "      <th>date</th>\n",
       "      <th>spotify_streams</th>\n",
       "      <th>apple_streams</th>\n",
       "      <th>combined_streams</th>\n",
       "    </tr>\n",
       "  </thead>\n",
       "  <tbody>\n",
       "    <tr>\n",
       "      <th>0</th>\n",
       "      <td>2025-02-07</td>\n",
       "      <td>215</td>\n",
       "      <td>2.0</td>\n",
       "      <td>217.0</td>\n",
       "    </tr>\n",
       "    <tr>\n",
       "      <th>1</th>\n",
       "      <td>2025-02-08</td>\n",
       "      <td>595</td>\n",
       "      <td>5.0</td>\n",
       "      <td>600.0</td>\n",
       "    </tr>\n",
       "    <tr>\n",
       "      <th>2</th>\n",
       "      <td>2025-02-09</td>\n",
       "      <td>456</td>\n",
       "      <td>15.0</td>\n",
       "      <td>471.0</td>\n",
       "    </tr>\n",
       "    <tr>\n",
       "      <th>3</th>\n",
       "      <td>2025-02-10</td>\n",
       "      <td>673</td>\n",
       "      <td>14.0</td>\n",
       "      <td>687.0</td>\n",
       "    </tr>\n",
       "    <tr>\n",
       "      <th>4</th>\n",
       "      <td>2025-02-11</td>\n",
       "      <td>843</td>\n",
       "      <td>3.0</td>\n",
       "      <td>846.0</td>\n",
       "    </tr>\n",
       "  </tbody>\n",
       "</table>\n",
       "</div>"
      ],
      "text/plain": [
       "        date  spotify_streams  apple_streams  combined_streams\n",
       "0 2025-02-07              215            2.0             217.0\n",
       "1 2025-02-08              595            5.0             600.0\n",
       "2 2025-02-09              456           15.0             471.0\n",
       "3 2025-02-10              673           14.0             687.0\n",
       "4 2025-02-11              843            3.0             846.0"
      ]
     },
     "metadata": {},
     "output_type": "display_data"
    }
   ],
   "source": [
    "# ─── Cell 3: Build Daily Stream DataFrame ───────────────────────────────────────\n",
    "sp_df = (pd.DataFrame(spotify_data[\"streams\"])\n",
    "           .assign(date=lambda d: pd.to_datetime(d[\"date\"]),\n",
    "                   spotify_streams=lambda d: d[\"streams\"].astype(int))\n",
    "           [[\"date\",\"spotify_streams\"]])\n",
    "\n",
    "ap_df = (pd.DataFrame(apple_data[\"totalStreams\"])\n",
    "           .assign(date=lambda d: pd.to_datetime(d[\"date\"]),\n",
    "                   apple_streams=lambda d: d[\"streams\"].astype(int))\n",
    "           [[\"date\",\"apple_streams\"]])\n",
    "\n",
    "df = (sp_df.merge(ap_df, on=\"date\", how=\"outer\")\n",
    "            .fillna(0)\n",
    "            .assign(combined_streams=lambda d: d[\"spotify_streams\"] + d[\"apple_streams\"])\n",
    "            .sort_values(\"date\")\n",
    "            .reset_index(drop=True))\n",
    "\n",
    "display(df.head())\n"
   ]
  },
  {
   "cell_type": "code",
   "execution_count": 4,
   "id": "2286bd32",
   "metadata": {},
   "outputs": [
    {
     "name": "stdout",
     "output_type": "stream",
     "text": [
      "💾 saved → C:\\Users\\Earth\\BEDROT PRODUCTIONS\\BEDROT DATA LAKE\\data_lake\\staging\\daily_streams_toolost.csv\n",
      "✅ QC passed – totals align\n"
     ]
    }
   ],
   "source": [
    "# ─── Cell 4: Save to STAGING & Sanity-Check Totals ─────────────────────────────\n",
    "STAGING.mkdir(parents=True, exist_ok=True)\n",
    "out_csv = STAGING / \"daily_streams_toolost.csv\"\n",
    "df.to_csv(out_csv, index=False)\n",
    "print(f\"💾 saved → {out_csv}\")\n",
    "\n",
    "assert df[\"combined_streams\"].sum() == df[\"spotify_streams\"].sum() + df[\"apple_streams\"].sum(), \\\n",
    "       \"sanity check failed: combined ≠ components\"\n",
    "print(\"✅ QC passed – totals align\")\n"
   ]
  },
  {
   "cell_type": "code",
   "execution_count": null,
   "id": "1f3fbeb4",
   "metadata": {},
   "outputs": [],
   "source": []
  }
 ],
 "metadata": {
  "kernelspec": {
   "display_name": ".venv",
   "language": "python",
   "name": "python3"
  },
  "language_info": {
   "codemirror_mode": {
    "name": "ipython",
    "version": 3
   },
   "file_extension": ".py",
   "mimetype": "text/x-python",
   "name": "python",
   "nbconvert_exporter": "python",
   "pygments_lexer": "ipython3",
   "version": "3.11.9"
  }
 },
 "nbformat": 4,
 "nbformat_minor": 5
}
