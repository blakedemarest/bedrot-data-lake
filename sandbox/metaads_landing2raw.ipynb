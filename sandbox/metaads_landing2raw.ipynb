{
 "cells": [
  {
   "cell_type": "code",
   "execution_count": 6,
   "id": "c5dd8beb",
   "metadata": {},
   "outputs": [],
   "source": [
    "# ─── Cell 1: Imports & Environment Setup ────────────────────────────────────────\n",
    "import os, shutil, hashlib, json\n",
    "from pathlib import Path\n",
    "from datetime import datetime\n",
    "from dotenv import load_dotenv\n",
    "\n",
    "load_dotenv()\n",
    "PROJECT_ROOT = Path(os.getenv(\"PROJECT_ROOT\"))\n",
    "LANDING      = PROJECT_ROOT / os.getenv(\"LANDING_ZONE\", \"landing\")\n",
    "RAW          = PROJECT_ROOT / os.getenv(\"RAW_ZONE\",     \"raw\")\n"
   ]
  },
  {
   "cell_type": "code",
   "execution_count": 7,
   "id": "b34b4565",
   "metadata": {},
   "outputs": [
    {
     "name": "stdout",
     "output_type": "stream",
     "text": [
      "↩︎ meta_ads_dump_20250529_112751 already in RAW\n",
      "↩︎ meta_ads_dump_20250529_113628 already in RAW\n",
      "↩︎ meta_ads_dump_20250529_131842 already in RAW\n",
      "Summary: 0 new dump(s) promoted.\n"
     ]
    }
   ],
   "source": [
    "# ─── Cell 2: Validate and Promote Dump Folders ──────────────────────────────────\n",
    "meta_landing = LANDING / \"metaads\"\n",
    "raw_meta     = RAW / \"metaads\"\n",
    "raw_meta.mkdir(parents=True, exist_ok=True)\n",
    "required = {\"ads.json\",\"adsets.json\",\"campaigns.json\",\"insights.json\"}\n",
    "\n",
    "def folder_hash(folder: Path) -> str:\n",
    "    h = hashlib.md5()\n",
    "    for f in sorted(folder.glob(\"*.json\")):\n",
    "        h.update(hashlib.md5(f.read_bytes()).digest())\n",
    "    return h.hexdigest()\n",
    "\n",
    "def is_valid(folder: Path) -> bool:\n",
    "    if not required.issubset({f.name for f in folder.glob(\"*.json\")}):\n",
    "        return False\n",
    "    try:\n",
    "        for f in required: json.loads((folder / f).read_text())\n",
    "        return True\n",
    "    except Exception:      return False\n",
    "\n",
    "promoted = []\n",
    "for dump in sorted(meta_landing.iterdir()):\n",
    "    if not dump.is_dir() or not is_valid(dump): continue\n",
    "    dest = raw_meta / dump.name\n",
    "    if dest.exists() and folder_hash(dest) == folder_hash(dump):\n",
    "        print(f\"↩︎ {dump.name} already in RAW\")\n",
    "        continue\n",
    "    if dest.exists():  # version duplicate\n",
    "        dest = raw_meta / f\"{dump.name}__{datetime.utcnow():%Y%m%dT%H%M%S}\"\n",
    "    shutil.copytree(dump, dest)\n",
    "    promoted.append(dest.name)\n",
    "    print(f\"✅ promoted {dest.name}\")\n",
    "\n",
    "print(f\"Summary: {len(promoted)} new dump(s) promoted.\")\n"
   ]
  },
  {
   "cell_type": "code",
   "execution_count": null,
   "id": "6bc57f90",
   "metadata": {},
   "outputs": [],
   "source": []
  }
 ],
 "metadata": {
  "kernelspec": {
   "display_name": ".venv",
   "language": "python",
   "name": "python3"
  },
  "language_info": {
   "codemirror_mode": {
    "name": "ipython",
    "version": 3
   },
   "file_extension": ".py",
   "mimetype": "text/x-python",
   "name": "python",
   "nbconvert_exporter": "python",
   "pygments_lexer": "ipython3",
   "version": "3.11.9"
  }
 },
 "nbformat": 4,
 "nbformat_minor": 5
}
