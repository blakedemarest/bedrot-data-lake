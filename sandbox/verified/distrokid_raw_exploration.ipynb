{
 "cells": [
  {
   "cell_type": "code",
   "execution_count": 1,
   "metadata": {},
   "outputs": [],
   "source": [
    "# 📦 Cell 1 – Imports\n",
    "# ------------------------------------------------------------\n",
    "from pathlib import Path\n",
    "import re, json, pandas as pd"
   ]
  },
  {
   "cell_type": "code",
   "execution_count": 2,
   "metadata": {},
   "outputs": [
    {
     "name": "stdout",
     "output_type": "stream",
     "text": [
      "CSV will be saved to: C:\\Users\\Earth\\BEDROT PRODUCTIONS\\BEDROT DATA LAKE\\data_lake\\curated\\daily_streams_distrokid.csv\n"
     ]
    }
   ],
   "source": [
    "# 📂 Cell 2 – Source & target paths\n",
    "# ------------------------------------------------------------\n",
    "distrokid_html = Path(r\"C:\\Users\\Earth\\BEDROT PRODUCTIONS\\BEDROT DATA LAKE\\data_lake\\landing\\distrokid\\streams\\streams_stats_20250522_085156.html\")\n",
    "apple_html     = Path(r\"C:\\Users\\Earth\\BEDROT PRODUCTIONS\\BEDROT DATA LAKE\\data_lake\\landing\\distrokid\\streams\\applemusic_stats_20250522_085156.html\")\n",
    "\n",
    "curated_dir    = Path(r\"C:\\Users\\Earth\\BEDROT PRODUCTIONS\\BEDROT DATA LAKE\\data_lake\\curated\")\n",
    "curated_dir.mkdir(parents=True, exist_ok=True)\n",
    "\n",
    "out_csv        = curated_dir / \"daily_streams_distrokid.csv\"\n",
    "print(\"CSV will be saved to:\", out_csv)\n"
   ]
  },
  {
   "cell_type": "code",
   "execution_count": 3,
   "metadata": {},
   "outputs": [],
   "source": [
    "# 🔎 Cell 3 – DistroKid daily extractor\n",
    "def extract_distrokid_daily(html_path: Path) -> pd.DataFrame:\n",
    "    text = html_path.read_text(encoding=\"utf-8\", errors=\"ignore\")\n",
    "    m = re.search(r'\"id\"\\s*:\\s*\"trend365day\".+?\"dataProvider\"\\s*:\\s*\\[([^\\]]+)\\]', \n",
    "                  text, flags=re.DOTALL)\n",
    "    if not m:\n",
    "        raise ValueError(\"trend365day chart not found in DistroKid HTML.\")\n",
    "    arr_text = \"[\" + m.group(1).strip() + \"]\"\n",
    "    arr_text = re.sub(r',\\s*\\]', ']', arr_text)\n",
    "    data     = json.loads(arr_text)\n",
    "    df = pd.DataFrame(data)\n",
    "    df.rename(columns={\"category\": \"date\", \"column-1\": \"spotify_streams\"}, inplace=True)\n",
    "    df[\"date\"] = pd.to_datetime(df[\"date\"])\n",
    "    return df[[\"date\", \"spotify_streams\"]]\n"
   ]
  },
  {
   "cell_type": "code",
   "execution_count": 4,
   "metadata": {},
   "outputs": [],
   "source": [
    "# 🍏 Cell 4 – Apple Music daily extractor\n",
    "def extract_apple_daily(html_path: Path) -> pd.DataFrame:\n",
    "    text = html_path.read_text(encoding=\"utf-8\", errors=\"ignore\")\n",
    "    providers = []\n",
    "    for m in re.finditer(r'\"dataProvider\"\\s*:\\s*\\[([^\\]]+)\\]', text, re.DOTALL):\n",
    "        array_txt = \"[\" + m.group(1) + \"]\"\n",
    "        array_txt = re.sub(r',\\s*\\]', ']', array_txt)\n",
    "        try:\n",
    "            providers.append(json.loads(array_txt))\n",
    "        except json.JSONDecodeError:\n",
    "            continue\n",
    "    if not providers:\n",
    "        raise ValueError(\"No dataProvider arrays found in Apple Music HTML.\")\n",
    "    data = max(providers, key=len)           # assume longest = daily\n",
    "    if len(data) < 50:\n",
    "        raise ValueError(\"Daily data array looks too short; check HTML.\")\n",
    "    first      = data[0]\n",
    "    date_key   = \"field\" if \"field\" in first else \"category\"\n",
    "    value_key  = \"value\" if \"value\" in first else (\"column-1\" if \"column-1\" in first else list(first.keys())[1])\n",
    "    df         = pd.DataFrame(data)\n",
    "    df.rename(columns={date_key: \"date\", value_key: \"apple_streams\"}, inplace=True)\n",
    "    df[\"date\"] = pd.to_datetime(df[\"date\"])\n",
    "    return df[[\"date\", \"apple_streams\"]]\n"
   ]
  },
  {
   "cell_type": "code",
   "execution_count": 5,
   "metadata": {},
   "outputs": [
    {
     "data": {
      "text/html": [
       "<div>\n",
       "<style scoped>\n",
       "    .dataframe tbody tr th:only-of-type {\n",
       "        vertical-align: middle;\n",
       "    }\n",
       "\n",
       "    .dataframe tbody tr th {\n",
       "        vertical-align: top;\n",
       "    }\n",
       "\n",
       "    .dataframe thead th {\n",
       "        text-align: right;\n",
       "    }\n",
       "</style>\n",
       "<table border=\"1\" class=\"dataframe\">\n",
       "  <thead>\n",
       "    <tr style=\"text-align: right;\">\n",
       "      <th></th>\n",
       "      <th>date</th>\n",
       "      <th>spotify_streams</th>\n",
       "      <th>apple_streams</th>\n",
       "      <th>combined_streams</th>\n",
       "    </tr>\n",
       "  </thead>\n",
       "  <tbody>\n",
       "    <tr>\n",
       "      <th>0</th>\n",
       "      <td>2024-08-23</td>\n",
       "      <td>40</td>\n",
       "      <td>0</td>\n",
       "      <td>40</td>\n",
       "    </tr>\n",
       "    <tr>\n",
       "      <th>1</th>\n",
       "      <td>2024-08-24</td>\n",
       "      <td>17</td>\n",
       "      <td>0</td>\n",
       "      <td>17</td>\n",
       "    </tr>\n",
       "    <tr>\n",
       "      <th>2</th>\n",
       "      <td>2024-08-25</td>\n",
       "      <td>6</td>\n",
       "      <td>0</td>\n",
       "      <td>6</td>\n",
       "    </tr>\n",
       "    <tr>\n",
       "      <th>3</th>\n",
       "      <td>2024-08-26</td>\n",
       "      <td>40</td>\n",
       "      <td>0</td>\n",
       "      <td>40</td>\n",
       "    </tr>\n",
       "    <tr>\n",
       "      <th>4</th>\n",
       "      <td>2024-08-27</td>\n",
       "      <td>31</td>\n",
       "      <td>0</td>\n",
       "      <td>31</td>\n",
       "    </tr>\n",
       "  </tbody>\n",
       "</table>\n",
       "</div>"
      ],
      "text/plain": [
       "        date  spotify_streams  apple_streams  combined_streams\n",
       "0 2024-08-23               40              0                40\n",
       "1 2024-08-24               17              0                17\n",
       "2 2024-08-25                6              0                 6\n",
       "3 2024-08-26               40              0                40\n",
       "4 2024-08-27               31              0                31"
      ]
     },
     "execution_count": 5,
     "metadata": {},
     "output_type": "execute_result"
    }
   ],
   "source": [
    "# 🏗️ Cell 5 – Combine the two sources\n",
    "dk_df    = extract_distrokid_daily(distrokid_html)\n",
    "apple_df = extract_apple_daily(apple_html)\n",
    "\n",
    "combined = (dk_df\n",
    "            .merge(apple_df, on=\"date\", how=\"outer\")\n",
    "            .sort_values(\"date\")\n",
    "            .fillna(0))\n",
    "\n",
    "combined[\"spotify_streams\"] = combined[\"spotify_streams\"].astype(int)\n",
    "combined[\"apple_streams\"]   = combined[\"apple_streams\"].astype(int)\n",
    "combined[\"combined_streams\"] = combined[\"spotify_streams\"] + combined[\"apple_streams\"]\n",
    "\n",
    "combined.head()\n"
   ]
  },
  {
   "cell_type": "code",
   "execution_count": 6,
   "metadata": {},
   "outputs": [
    {
     "name": "stdout",
     "output_type": "stream",
     "text": [
      "✅  Saved merged CSV to: C:\\Users\\Earth\\BEDROT PRODUCTIONS\\BEDROT DATA LAKE\\data_lake\\curated\\daily_streams_distrokid.csv\n",
      "Rows: 272, Date range: 2024-08-23 → 2025-05-21\n"
     ]
    },
    {
     "data": {
      "text/html": [
       "<div>\n",
       "<style scoped>\n",
       "    .dataframe tbody tr th:only-of-type {\n",
       "        vertical-align: middle;\n",
       "    }\n",
       "\n",
       "    .dataframe tbody tr th {\n",
       "        vertical-align: top;\n",
       "    }\n",
       "\n",
       "    .dataframe thead th {\n",
       "        text-align: right;\n",
       "    }\n",
       "</style>\n",
       "<table border=\"1\" class=\"dataframe\">\n",
       "  <thead>\n",
       "    <tr style=\"text-align: right;\">\n",
       "      <th></th>\n",
       "      <th>date</th>\n",
       "      <th>spotify_streams</th>\n",
       "      <th>apple_streams</th>\n",
       "      <th>combined_streams</th>\n",
       "    </tr>\n",
       "  </thead>\n",
       "  <tbody>\n",
       "    <tr>\n",
       "      <th>267</th>\n",
       "      <td>2025-05-17</td>\n",
       "      <td>2539</td>\n",
       "      <td>74</td>\n",
       "      <td>2613</td>\n",
       "    </tr>\n",
       "    <tr>\n",
       "      <th>268</th>\n",
       "      <td>2025-05-18</td>\n",
       "      <td>2891</td>\n",
       "      <td>49</td>\n",
       "      <td>2940</td>\n",
       "    </tr>\n",
       "    <tr>\n",
       "      <th>269</th>\n",
       "      <td>2025-05-19</td>\n",
       "      <td>2843</td>\n",
       "      <td>55</td>\n",
       "      <td>2898</td>\n",
       "    </tr>\n",
       "    <tr>\n",
       "      <th>270</th>\n",
       "      <td>2025-05-20</td>\n",
       "      <td>1795</td>\n",
       "      <td>59</td>\n",
       "      <td>1854</td>\n",
       "    </tr>\n",
       "    <tr>\n",
       "      <th>271</th>\n",
       "      <td>2025-05-21</td>\n",
       "      <td>0</td>\n",
       "      <td>13</td>\n",
       "      <td>13</td>\n",
       "    </tr>\n",
       "  </tbody>\n",
       "</table>\n",
       "</div>"
      ],
      "text/plain": [
       "          date  spotify_streams  apple_streams  combined_streams\n",
       "267 2025-05-17             2539             74              2613\n",
       "268 2025-05-18             2891             49              2940\n",
       "269 2025-05-19             2843             55              2898\n",
       "270 2025-05-20             1795             59              1854\n",
       "271 2025-05-21                0             13                13"
      ]
     },
     "execution_count": 6,
     "metadata": {},
     "output_type": "execute_result"
    }
   ],
   "source": [
    "# 💾 Cell 6 – Write CSV & confirm\n",
    "combined.to_csv(out_csv, index=False)\n",
    "print(f\"✅  Saved merged CSV to: {out_csv}\")\n",
    "print(f\"Rows: {len(combined)}, Date range: {combined['date'].min().date()} → {combined['date'].max().date()}\")\n",
    "\n",
    "combined.tail()\n"
   ]
  },
  {
   "cell_type": "code",
   "execution_count": 8,
   "metadata": {},
   "outputs": [
    {
     "name": "stdout",
     "output_type": "stream",
     "text": [
      "Spotify total  : 660,121\n",
      "Apple total    : 19,874\n",
      "Combined total : 679,995\n",
      "\n",
      "✅  Validation passed — sums line up.\n"
     ]
    }
   ],
   "source": [
    "# 🔍 Cell 7 – Post-validation check (absolute path)\n",
    "# ------------------------------------------------------------\n",
    "from pathlib import Path\n",
    "import pandas as pd\n",
    "\n",
    "csv_to_validate = Path(r\"C:\\Users\\Earth\\BEDROT PRODUCTIONS\\BEDROT DATA LAKE\\data_lake\\curated\\daily_streams_distrokid.csv\")\n",
    "\n",
    "df = pd.read_csv(csv_to_validate)\n",
    "\n",
    "sum_spotify  = df[\"spotify_streams\"].sum()\n",
    "sum_apple    = df[\"apple_streams\"].sum()\n",
    "sum_combined = df[\"combined_streams\"].sum()\n",
    "\n",
    "print(f\"Spotify total  : {sum_spotify:,}\")\n",
    "print(f\"Apple total    : {sum_apple:,}\")\n",
    "print(f\"Combined total : {sum_combined:,}\")\n",
    "\n",
    "if (sum_spotify + sum_apple) == sum_combined:\n",
    "    print(\"\\n✅  Validation passed — sums line up.\")\n",
    "else:\n",
    "    print(\"\\n❌  Validation FAILED — combined total mismatch.\")\n"
   ]
  },
  {
   "cell_type": "code",
   "execution_count": null,
   "metadata": {},
   "outputs": [],
   "source": []
  }
 ],
 "metadata": {
  "kernelspec": {
   "display_name": ".venv",
   "language": "python",
   "name": "python3"
  },
  "language_info": {
   "codemirror_mode": {
    "name": "ipython",
    "version": 3
   },
   "file_extension": ".py",
   "mimetype": "text/x-python",
   "name": "python",
   "nbconvert_exporter": "python",
   "pygments_lexer": "ipython3",
   "version": "3.11.9"
  }
 },
 "nbformat": 4,
 "nbformat_minor": 2
}
