{
 "cells": [
  {
   "cell_type": "code",
   "execution_count": 1,
   "id": "27c98109",
   "metadata": {},
   "outputs": [],
   "source": [
    "# Cell 1: Imports\n",
    "import os\n",
    "import json\n",
    "import pandas as pd\n",
    "from IPython.display import display\n"
   ]
  },
  {
   "cell_type": "code",
   "execution_count": 2,
   "id": "c7b77c62",
   "metadata": {},
   "outputs": [],
   "source": [
    "# Cell 2: Define file paths and load JSON\n",
    "base_dir = r\"C:\\Users\\Earth\\BEDROT PRODUCTIONS\\BEDROT DATA LAKE\\data_lake\\landing\\toolost\"\n",
    "\n",
    "spotify_path = os.path.join(base_dir, \"toolost_spotify_20250522_124556.json\")\n",
    "apple_path   = os.path.join(base_dir, \"toolost_apple_20250522_124556.json\")\n",
    "\n",
    "with open(spotify_path, \"r\", encoding=\"utf-8\") as f:\n",
    "    spotify_data = json.load(f)\n",
    "\n",
    "with open(apple_path, \"r\", encoding=\"utf-8\") as f:\n",
    "    apple_data = json.load(f)\n"
   ]
  },
  {
   "cell_type": "code",
   "execution_count": 3,
   "id": "6b63042d",
   "metadata": {},
   "outputs": [],
   "source": [
    "# Cell 3: Build DataFrames\n",
    "# Spotify JSON has top-level \"streams\"\n",
    "spotify_df = pd.DataFrame(spotify_data.get(\"streams\", []))\n",
    "spotify_df[\"date\"] = pd.to_datetime(spotify_df[\"date\"])\n",
    "spotify_df[\"spotify_streams\"] = spotify_df[\"streams\"].astype(int)\n",
    "spotify_df = spotify_df[[\"date\", \"spotify_streams\"]]\n",
    "\n",
    "# Apple JSON has top-level \"totalStreams\"\n",
    "apple_df = pd.DataFrame(apple_data.get(\"totalStreams\", []))\n",
    "apple_df[\"date\"] = pd.to_datetime(apple_df[\"date\"])\n",
    "apple_df[\"apple_streams\"] = apple_df[\"streams\"].astype(int)\n",
    "apple_df = apple_df[[\"date\", \"apple_streams\"]]\n"
   ]
  },
  {
   "cell_type": "code",
   "execution_count": 4,
   "id": "cbfc376a",
   "metadata": {},
   "outputs": [
    {
     "data": {
      "text/html": [
       "<div>\n",
       "<style scoped>\n",
       "    .dataframe tbody tr th:only-of-type {\n",
       "        vertical-align: middle;\n",
       "    }\n",
       "\n",
       "    .dataframe tbody tr th {\n",
       "        vertical-align: top;\n",
       "    }\n",
       "\n",
       "    .dataframe thead th {\n",
       "        text-align: right;\n",
       "    }\n",
       "</style>\n",
       "<table border=\"1\" class=\"dataframe\">\n",
       "  <thead>\n",
       "    <tr style=\"text-align: right;\">\n",
       "      <th></th>\n",
       "      <th>date</th>\n",
       "      <th>spotify_streams</th>\n",
       "      <th>apple_streams</th>\n",
       "      <th>combined_streams</th>\n",
       "    </tr>\n",
       "  </thead>\n",
       "  <tbody>\n",
       "    <tr>\n",
       "      <th>0</th>\n",
       "      <td>2025-02-07</td>\n",
       "      <td>215</td>\n",
       "      <td>2.0</td>\n",
       "      <td>217</td>\n",
       "    </tr>\n",
       "    <tr>\n",
       "      <th>1</th>\n",
       "      <td>2025-02-08</td>\n",
       "      <td>595</td>\n",
       "      <td>5.0</td>\n",
       "      <td>600</td>\n",
       "    </tr>\n",
       "    <tr>\n",
       "      <th>2</th>\n",
       "      <td>2025-02-09</td>\n",
       "      <td>456</td>\n",
       "      <td>15.0</td>\n",
       "      <td>471</td>\n",
       "    </tr>\n",
       "    <tr>\n",
       "      <th>3</th>\n",
       "      <td>2025-02-10</td>\n",
       "      <td>673</td>\n",
       "      <td>14.0</td>\n",
       "      <td>687</td>\n",
       "    </tr>\n",
       "    <tr>\n",
       "      <th>4</th>\n",
       "      <td>2025-02-11</td>\n",
       "      <td>843</td>\n",
       "      <td>3.0</td>\n",
       "      <td>846</td>\n",
       "    </tr>\n",
       "  </tbody>\n",
       "</table>\n",
       "</div>"
      ],
      "text/plain": [
       "        date  spotify_streams  apple_streams  combined_streams\n",
       "0 2025-02-07              215            2.0               217\n",
       "1 2025-02-08              595            5.0               600\n",
       "2 2025-02-09              456           15.0               471\n",
       "3 2025-02-10              673           14.0               687\n",
       "4 2025-02-11              843            3.0               846"
      ]
     },
     "metadata": {},
     "output_type": "display_data"
    }
   ],
   "source": [
    "# Cell 4: Merge and compute combined streams\n",
    "df = pd.merge(spotify_df, apple_df, on=\"date\", how=\"outer\").fillna(0)\n",
    "df[\"combined_streams\"] = (df[\"spotify_streams\"] + df[\"apple_streams\"]).astype(int)\n",
    "df = df.sort_values(\"date\").reset_index(drop=True)\n",
    "\n",
    "# Quick peek\n",
    "display(df.head())\n"
   ]
  },
  {
   "cell_type": "code",
   "execution_count": 5,
   "id": "e0842d59",
   "metadata": {},
   "outputs": [
    {
     "name": "stdout",
     "output_type": "stream",
     "text": [
      "Saved CSV to: C:\\Users\\Earth\\BEDROT PRODUCTIONS\\BEDROT DATA LAKE\\data_lake\\curated\\daily_streams_toolost.csv\n"
     ]
    }
   ],
   "source": [
    "# Cell 5: Save to curated CSV\n",
    "curated_dir = r\"C:\\Users\\Earth\\BEDROT PRODUCTIONS\\BEDROT DATA LAKE\\data_lake\\curated\"\n",
    "os.makedirs(curated_dir, exist_ok=True)\n",
    "\n",
    "output_csv = os.path.join(curated_dir, \"daily_streams_toolost.csv\")\n",
    "df.to_csv(output_csv, index=False)\n",
    "print(f\"Saved CSV to: {output_csv}\")\n"
   ]
  },
  {
   "cell_type": "code",
   "execution_count": 7,
   "id": "5b884c5d",
   "metadata": {},
   "outputs": [
    {
     "name": "stdout",
     "output_type": "stream",
     "text": [
      "Total Spotify streams:  93383\n",
      "Total Apple streams:    2558.0\n",
      "Total Combined streams: 95941\n",
      "✅ Validation passed: sum(spotify) + sum(apple) == sum(combined)\n"
     ]
    }
   ],
   "source": [
    "# Cell 6: Post-validation (using absolute path)\n",
    "validate_path = r\"C:\\Users\\Earth\\BEDROT PRODUCTIONS\\BEDROT DATA LAKE\\data_lake\\curated\\daily_streams_toolost.csv\"\n",
    "validate_df = pd.read_csv(validate_path)\n",
    "\n",
    "total_spotify  = validate_df[\"spotify_streams\"].sum()\n",
    "total_apple    = validate_df[\"apple_streams\"].sum()\n",
    "total_combined = validate_df[\"combined_streams\"].sum()\n",
    "\n",
    "print(f\"Total Spotify streams:  {total_spotify}\")\n",
    "print(f\"Total Apple streams:    {total_apple}\")\n",
    "print(f\"Total Combined streams: {total_combined}\")\n",
    "\n",
    "if total_spotify + total_apple == total_combined:\n",
    "    print(\"✅ Validation passed: sum(spotify) + sum(apple) == sum(combined)\")\n",
    "else:\n",
    "    print(\"❌ Validation failed: sums do not match\")\n"
   ]
  },
  {
   "cell_type": "code",
   "execution_count": null,
   "id": "a27bec81",
   "metadata": {},
   "outputs": [],
   "source": []
  }
 ],
 "metadata": {
  "kernelspec": {
   "display_name": ".venv",
   "language": "python",
   "name": "python3"
  },
  "language_info": {
   "codemirror_mode": {
    "name": "ipython",
    "version": 3
   },
   "file_extension": ".py",
   "mimetype": "text/x-python",
   "name": "python",
   "nbconvert_exporter": "python",
   "pygments_lexer": "ipython3",
   "version": "3.11.9"
  }
 },
 "nbformat": 4,
 "nbformat_minor": 5
}
