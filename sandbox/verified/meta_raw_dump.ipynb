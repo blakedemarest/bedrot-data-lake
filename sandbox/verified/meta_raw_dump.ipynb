{
 "cells": [
  {
   "cell_type": "code",
   "execution_count": 1,
   "id": "3958d14c",
   "metadata": {},
   "outputs": [
    {
     "name": "stdout",
     "output_type": "stream",
     "text": [
      "Requirement already satisfied: facebook-business==19.0.0 in c:\\users\\earth\\bedrot productions\\bedrot data lake\\data_lake\\.venv\\lib\\site-packages (19.0.0)\n",
      "Requirement already satisfied: python-dotenv in c:\\users\\earth\\bedrot productions\\bedrot data lake\\data_lake\\.venv\\lib\\site-packages (1.1.0)\n",
      "Requirement already satisfied: pandas in c:\\users\\earth\\bedrot productions\\bedrot data lake\\data_lake\\.venv\\lib\\site-packages (2.2.3)\n",
      "Requirement already satisfied: tqdm in c:\\users\\earth\\bedrot productions\\bedrot data lake\\data_lake\\.venv\\lib\\site-packages (4.67.1)\n",
      "Requirement already satisfied: requests>=2.3.0 in c:\\users\\earth\\bedrot productions\\bedrot data lake\\data_lake\\.venv\\lib\\site-packages (from facebook-business==19.0.0) (2.32.3)\n",
      "Requirement already satisfied: six>=1.7.3 in c:\\users\\earth\\bedrot productions\\bedrot data lake\\data_lake\\.venv\\lib\\site-packages (from facebook-business==19.0.0) (1.17.0)\n",
      "Requirement already satisfied: curlify>=2.1.0 in c:\\users\\earth\\bedrot productions\\bedrot data lake\\data_lake\\.venv\\lib\\site-packages (from facebook-business==19.0.0) (3.0.0)\n",
      "Requirement already satisfied: pycountry>=19.8.18 in c:\\users\\earth\\bedrot productions\\bedrot data lake\\data_lake\\.venv\\lib\\site-packages (from facebook-business==19.0.0) (24.6.1)\n",
      "Requirement already satisfied: enum34 in c:\\users\\earth\\bedrot productions\\bedrot data lake\\data_lake\\.venv\\lib\\site-packages (from facebook-business==19.0.0) (1.1.10)\n",
      "Requirement already satisfied: aiohttp in c:\\users\\earth\\bedrot productions\\bedrot data lake\\data_lake\\.venv\\lib\\site-packages (from facebook-business==19.0.0) (3.12.1)\n",
      "Requirement already satisfied: numpy>=1.23.2 in c:\\users\\earth\\bedrot productions\\bedrot data lake\\data_lake\\.venv\\lib\\site-packages (from pandas) (1.26.4)\n",
      "Requirement already satisfied: python-dateutil>=2.8.2 in c:\\users\\earth\\bedrot productions\\bedrot data lake\\data_lake\\.venv\\lib\\site-packages (from pandas) (2.9.0.post0)\n",
      "Requirement already satisfied: pytz>=2020.1 in c:\\users\\earth\\bedrot productions\\bedrot data lake\\data_lake\\.venv\\lib\\site-packages (from pandas) (2024.2)\n",
      "Requirement already satisfied: tzdata>=2022.7 in c:\\users\\earth\\bedrot productions\\bedrot data lake\\data_lake\\.venv\\lib\\site-packages (from pandas) (2025.2)\n",
      "Requirement already satisfied: colorama in c:\\users\\earth\\bedrot productions\\bedrot data lake\\data_lake\\.venv\\lib\\site-packages (from tqdm) (0.4.6)\n",
      "Requirement already satisfied: charset-normalizer<4,>=2 in c:\\users\\earth\\bedrot productions\\bedrot data lake\\data_lake\\.venv\\lib\\site-packages (from requests>=2.3.0->facebook-business==19.0.0) (3.4.2)\n",
      "Requirement already satisfied: idna<4,>=2.5 in c:\\users\\earth\\bedrot productions\\bedrot data lake\\data_lake\\.venv\\lib\\site-packages (from requests>=2.3.0->facebook-business==19.0.0) (3.10)\n",
      "Requirement already satisfied: urllib3<3,>=1.21.1 in c:\\users\\earth\\bedrot productions\\bedrot data lake\\data_lake\\.venv\\lib\\site-packages (from requests>=2.3.0->facebook-business==19.0.0) (2.4.0)\n",
      "Requirement already satisfied: certifi>=2017.4.17 in c:\\users\\earth\\bedrot productions\\bedrot data lake\\data_lake\\.venv\\lib\\site-packages (from requests>=2.3.0->facebook-business==19.0.0) (2025.4.26)\n",
      "Requirement already satisfied: aiohappyeyeballs>=2.5.0 in c:\\users\\earth\\bedrot productions\\bedrot data lake\\data_lake\\.venv\\lib\\site-packages (from aiohttp->facebook-business==19.0.0) (2.6.1)\n",
      "Requirement already satisfied: aiosignal>=1.1.2 in c:\\users\\earth\\bedrot productions\\bedrot data lake\\data_lake\\.venv\\lib\\site-packages (from aiohttp->facebook-business==19.0.0) (1.3.2)\n",
      "Requirement already satisfied: attrs>=17.3.0 in c:\\users\\earth\\bedrot productions\\bedrot data lake\\data_lake\\.venv\\lib\\site-packages (from aiohttp->facebook-business==19.0.0) (25.3.0)\n",
      "Requirement already satisfied: frozenlist>=1.1.1 in c:\\users\\earth\\bedrot productions\\bedrot data lake\\data_lake\\.venv\\lib\\site-packages (from aiohttp->facebook-business==19.0.0) (1.6.0)\n",
      "Requirement already satisfied: multidict<7.0,>=4.5 in c:\\users\\earth\\bedrot productions\\bedrot data lake\\data_lake\\.venv\\lib\\site-packages (from aiohttp->facebook-business==19.0.0) (6.4.4)\n",
      "Requirement already satisfied: propcache>=0.2.0 in c:\\users\\earth\\bedrot productions\\bedrot data lake\\data_lake\\.venv\\lib\\site-packages (from aiohttp->facebook-business==19.0.0) (0.3.1)\n",
      "Requirement already satisfied: yarl<2.0,>=1.17.0 in c:\\users\\earth\\bedrot productions\\bedrot data lake\\data_lake\\.venv\\lib\\site-packages (from aiohttp->facebook-business==19.0.0) (1.20.0)\n",
      "Note: you may need to restart the kernel to use updated packages.\n"
     ]
    }
   ],
   "source": [
    "# ╔════════════════════════════════════════════════════════════════╗\n",
    "# ║ 🔧  Cell 1 – One-time installs (run once)                      ║\n",
    "# ╚════════════════════════════════════════════════════════════════╝\n",
    "# Jupyter-native magic – safest inside notebooks\n",
    "%pip install facebook-business==19.0.0 python-dotenv pandas tqdm\n",
    "\n",
    "# ── If you ever need an in-Python fallback, uncomment this block ──\n",
    "# import subprocess, sys\n",
    "# subprocess.check_call([\n",
    "#     sys.executable, \"-m\", \"pip\", \"install\",\n",
    "#     \"facebook-business==19.0.0\", \"python-dotenv\", \"pandas\", \"tqdm\"\n",
    "# ])\n"
   ]
  },
  {
   "cell_type": "code",
   "execution_count": 2,
   "id": "ff3c70df",
   "metadata": {},
   "outputs": [
    {
     "data": {
      "text/plain": [
       "<facebook_business.api.FacebookAdsApi at 0x164f7710350>"
      ]
     },
     "execution_count": 2,
     "metadata": {},
     "output_type": "execute_result"
    }
   ],
   "source": [
    "# ╔════════════════════════════════════════════════════════════════╗\n",
    "# ║ 📚  Cell 2 – Imports & .env loading                            ║\n",
    "# ╚════════════════════════════════════════════════════════════════╝\n",
    "import json\n",
    "import os\n",
    "from datetime import datetime\n",
    "from pathlib import Path\n",
    "\n",
    "import pandas as pd\n",
    "from dotenv import load_dotenv\n",
    "from tqdm import tqdm\n",
    "from facebook_business.api import FacebookAdsApi\n",
    "from facebook_business.adobjects.adaccount import AdAccount\n",
    "from facebook_business.adobjects.campaign import Campaign\n",
    "from facebook_business.adobjects.adset import AdSet\n",
    "from facebook_business.adobjects.ad import Ad\n",
    "from facebook_business.adobjects.adsinsights import AdsInsights\n",
    "\n",
    "# ── Credentials ────────────────────────────────────────────────\n",
    "load_dotenv()\n",
    "ACCESS_TOKEN  = os.getenv(\"META_ACCESS_TOKEN\")\n",
    "AD_ACCOUNT_ID = os.getenv(\"META_AD_ACCOUNT_ID\")      # format: act_123…\n",
    "assert ACCESS_TOKEN and AD_ACCOUNT_ID, \".env vars missing\"\n",
    "\n",
    "FacebookAdsApi.init(access_token=ACCESS_TOKEN, api_version=\"v19.0\")\n"
   ]
  },
  {
   "cell_type": "code",
   "execution_count": 3,
   "id": "dd8b957f",
   "metadata": {},
   "outputs": [
    {
     "name": "stdout",
     "output_type": "stream",
     "text": [
      "🔖 Dump directory → C:\\Users\\Earth\\BEDROT PRODUCTIONS\\BEDROT DATA LAKE\\data_lake\\landing\\20250526_184101\n"
     ]
    }
   ],
   "source": [
    "# ╔════════════════════════════════════════════════════════════════╗\n",
    "# ║ 🗂️  Cell 3 – Output directory helper (FINAL)                   ║\n",
    "# ╚════════════════════════════════════════════════════════════════╝\n",
    "# Notebook path  : …\\sandbox\\meta_raw_dump.ipynb\n",
    "# Dump directory : …\\landing\\<timestamp>\\\n",
    "\n",
    "timestamp = datetime.utcnow().strftime(\"%Y%m%d_%H%M%S\")\n",
    "\n",
    "try:\n",
    "    here = Path(__file__).resolve().parent          # when executed as .py\n",
    "except NameError:\n",
    "    here = Path.cwd()                               # when run in Notebook\n",
    "\n",
    "landing_root = (here.parent / \"landing\").resolve()  # sibling to sandbox\n",
    "root_dir     = landing_root / timestamp\n",
    "root_dir.mkdir(parents=True, exist_ok=True)\n",
    "\n",
    "print(f\"🔖 Dump directory → {root_dir}\")\n"
   ]
  },
  {
   "cell_type": "code",
   "execution_count": 4,
   "id": "e4700ae8",
   "metadata": {},
   "outputs": [],
   "source": [
    "# ╔════════════════════════════════════════════════════════════════╗\n",
    "# ║ 📝  Cell 4 – Field definitions                                 ║\n",
    "# ╚════════════════════════════════════════════════════════════════╝\n",
    "CAMPAIGN_FIELDS = [\n",
    "    Campaign.Field.id, Campaign.Field.name, Campaign.Field.status,\n",
    "    Campaign.Field.objective, Campaign.Field.spend_cap,\n",
    "    Campaign.Field.start_time, Campaign.Field.stop_time,\n",
    "    Campaign.Field.created_time, Campaign.Field.updated_time,\n",
    "]\n",
    "\n",
    "ADSET_FIELDS = [\n",
    "    AdSet.Field.id, AdSet.Field.name, AdSet.Field.status, AdSet.Field.campaign_id,\n",
    "    AdSet.Field.daily_budget, AdSet.Field.lifetime_budget, AdSet.Field.bid_strategy,\n",
    "    AdSet.Field.targeting, AdSet.Field.optimization_goal,\n",
    "    AdSet.Field.start_time, AdSet.Field.end_time, AdSet.Field.pacing_type,\n",
    "    AdSet.Field.created_time, AdSet.Field.updated_time,\n",
    "]\n",
    "\n",
    "AD_FIELDS = [\n",
    "    Ad.Field.id, Ad.Field.name, Ad.Field.status, Ad.Field.adset_id,\n",
    "    Ad.Field.campaign_id, Ad.Field.effective_status, Ad.Field.creative,\n",
    "    Ad.Field.tracking_specs, Ad.Field.created_time, Ad.Field.updated_time,\n",
    "]\n",
    "\n",
    "INSIGHT_FIELDS = [\n",
    "    AdsInsights.Field.campaign_id, AdsInsights.Field.adset_id, AdsInsights.Field.ad_id,\n",
    "    AdsInsights.Field.date_start, AdsInsights.Field.date_stop, AdsInsights.Field.impressions,\n",
    "    AdsInsights.Field.clicks, AdsInsights.Field.spend, AdsInsights.Field.reach,\n",
    "    AdsInsights.Field.cpc, AdsInsights.Field.cpm, AdsInsights.Field.cpp,\n",
    "    AdsInsights.Field.action_values,\n",
    "]\n"
   ]
  },
  {
   "cell_type": "code",
   "execution_count": 5,
   "id": "31216aa4",
   "metadata": {},
   "outputs": [],
   "source": [
    "# ╔════════════════════════════════════════════════════════════════╗\n",
    "# ║ 🚀  Cell 5 – Generic paginator (bug-fixed)                     ║\n",
    "# ╚════════════════════════════════════════════════════════════════╝\n",
    "def fetch_all(edge_method, fields, params=None):\n",
    "    \"\"\"\n",
    "    Call edge_method (e.g. account.get_campaigns) then auto-page through results.\n",
    "    Returns a list of fully-expanded dicts ready for JSON dump.\n",
    "    \"\"\"\n",
    "    params   = params or {}\n",
    "    cursor   = edge_method(fields=fields, params=params)\n",
    "    results  = []\n",
    "\n",
    "    while True:\n",
    "        results.extend(cursor)\n",
    "        if cursor and cursor.load_next_page():\n",
    "            cursor = cursor.next\n",
    "        else:\n",
    "            break\n",
    "\n",
    "    return [obj.export_all_data() for obj in results]\n"
   ]
  },
  {
   "cell_type": "code",
   "execution_count": 6,
   "id": "fb321aaf",
   "metadata": {},
   "outputs": [
    {
     "name": "stdout",
     "output_type": "stream",
     "text": [
      "Fetching campaigns …\n",
      "🚚 13 campaigns saved\n",
      "Fetching ad sets …\n",
      "🚚 31 ad sets saved\n",
      "Fetching ads …\n",
      "🚚 54 ads saved\n"
     ]
    }
   ],
   "source": [
    "# ╔════════════════════════════════════════════════════════════════╗\n",
    "# ║ 📦  Cell 6 – Download campaigns, adsets, ads                   ║\n",
    "# ╚════════════════════════════════════════════════════════════════╝\n",
    "account = AdAccount(AD_ACCOUNT_ID)\n",
    "\n",
    "print(\"Fetching campaigns …\")\n",
    "campaign_data = fetch_all(account.get_campaigns, CAMPAIGN_FIELDS)\n",
    "Path(root_dir, \"campaigns.json\").write_text(json.dumps(campaign_data, indent=2))\n",
    "print(f\"🚚 {len(campaign_data)} campaigns saved\")\n",
    "\n",
    "print(\"Fetching ad sets …\")\n",
    "adset_data = fetch_all(account.get_ad_sets, ADSET_FIELDS, params={\"limit\": 200})\n",
    "Path(root_dir, \"adsets.json\").write_text(json.dumps(adset_data, indent=2))\n",
    "print(f\"🚚 {len(adset_data)} ad sets saved\")\n",
    "\n",
    "print(\"Fetching ads …\")\n",
    "ad_data = fetch_all(account.get_ads, AD_FIELDS, params={\"limit\": 200})\n",
    "Path(root_dir, \"ads.json\").write_text(json.dumps(ad_data, indent=2))\n",
    "print(f\"🚚 {len(ad_data)} ads saved\")\n"
   ]
  },
  {
   "cell_type": "code",
   "execution_count": 7,
   "id": "7c4681e4",
   "metadata": {},
   "outputs": [
    {
     "name": "stdout",
     "output_type": "stream",
     "text": [
      "Fetching insights …\n"
     ]
    },
    {
     "name": "stderr",
     "output_type": "stream",
     "text": [
      "Campaign insights: 100%|██████████| 13/13 [00:06<00:00,  2.05it/s]"
     ]
    },
    {
     "name": "stdout",
     "output_type": "stream",
     "text": [
      "🚚 13 insight rows saved\n"
     ]
    },
    {
     "name": "stderr",
     "output_type": "stream",
     "text": [
      "\n"
     ]
    }
   ],
   "source": [
    "# ╔════════════════════════════════════════════════════════════════╗\n",
    "# ║ 📈  Cell 7 – Insights dump (level toggle)                      ║\n",
    "# ╚════════════════════════════════════════════════════════════════╝\n",
    "INSIGHT_LEVEL = \"campaign\"          # or \"adset\" or \"ad\"\n",
    "\n",
    "insight_records = []\n",
    "print(\"Fetching insights …\")\n",
    "\n",
    "for camp in tqdm(campaign_data, desc=\"Campaign insights\"):\n",
    "    camp_id = camp[\"id\"]\n",
    "    edge    = Campaign(camp_id).get_insights\n",
    "    camp_insights = fetch_all(\n",
    "        edge, INSIGHT_FIELDS,\n",
    "        params={\"date_preset\": \"maximum\", \"level\": INSIGHT_LEVEL, \"limit\": 500},\n",
    "    )\n",
    "    insight_records.extend(camp_insights)\n",
    "\n",
    "Path(root_dir, \"insights.json\").write_text(json.dumps(insight_records, indent=2))\n",
    "print(f\"🚚 {len(insight_records)} insight rows saved\")\n"
   ]
  },
  {
   "cell_type": "code",
   "execution_count": 8,
   "id": "3d955022",
   "metadata": {},
   "outputs": [
    {
     "name": "stdout",
     "output_type": "stream",
     "text": [
      "Rows → campaigns: 13 | adsets: 31 | ads: 54 | insights: 13\n",
      "💰 Lifetime spend snapshot: $1,874.56\n"
     ]
    }
   ],
   "source": [
    "# ╔════════════════════════════════════════════════════════════════╗\n",
    "# ║ 🔍  Cell 8 – Quick sanity checks                               ║\n",
    "# ╚════════════════════════════════════════════════════════════════╝\n",
    "df_camps   = pd.DataFrame(campaign_data)\n",
    "df_adsets  = pd.DataFrame(adset_data)\n",
    "df_ads     = pd.DataFrame(ad_data)\n",
    "df_ins     = pd.DataFrame(insight_records)\n",
    "\n",
    "print(\"Rows → campaigns:\", len(df_camps),\n",
    "      \"| adsets:\", len(df_adsets),\n",
    "      \"| ads:\", len(df_ads),\n",
    "      \"| insights:\", len(df_ins))\n",
    "\n",
    "if not df_ins.empty:\n",
    "    total_spend = df_ins[\"spend\"].astype(float).sum()\n",
    "    print(f\"💰 Lifetime spend snapshot: ${total_spend:,.2f}\")\n"
   ]
  },
  {
   "cell_type": "code",
   "execution_count": 9,
   "id": "ca8b9265",
   "metadata": {},
   "outputs": [
    {
     "name": "stdout",
     "output_type": "stream",
     "text": [
      "\n",
      "✅ Raw Meta snapshot complete → C:\\Users\\Earth\\BEDROT PRODUCTIONS\\BEDROT DATA LAKE\\data_lake\\landing\\20250526_184101\n"
     ]
    }
   ],
   "source": [
    "# ╔════════════════════════════════════════════════════════════════╗\n",
    "# ║ ✅  Cell 9 – Completion banner                                 ║\n",
    "# ╚════════════════════════════════════════════════════════════════╝\n",
    "print(f\"\\n✅ Raw Meta snapshot complete → {root_dir}\")\n"
   ]
  }
 ],
 "metadata": {
  "kernelspec": {
   "display_name": ".venv",
   "language": "python",
   "name": "python3"
  },
  "language_info": {
   "codemirror_mode": {
    "name": "ipython",
    "version": 3
   },
   "file_extension": ".py",
   "mimetype": "text/x-python",
   "name": "python",
   "nbconvert_exporter": "python",
   "pygments_lexer": "ipython3",
   "version": "3.11.9"
  }
 },
 "nbformat": 4,
 "nbformat_minor": 5
}
