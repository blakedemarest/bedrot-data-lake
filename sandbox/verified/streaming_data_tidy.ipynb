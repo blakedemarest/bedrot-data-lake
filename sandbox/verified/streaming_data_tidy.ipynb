{
 "cells": [
  {
   "cell_type": "code",
   "execution_count": 3,
   "id": "f73ff3cd",
   "metadata": {},
   "outputs": [],
   "source": [
    "# ╔══════════════════════════════════════════════════╗\n",
    "# ║ 📦 Cell 1 – Imports & Path Setup                  ║\n",
    "# ╚══════════════════════════════════════════════════╝\n",
    "import os\n",
    "from pathlib import Path\n",
    "import pandas as pd\n",
    "\n",
    "# Get project root from .env\n",
    "root_dir = Path(os.getenv(\"PROJECT_ROOT\"))\n",
    "\n",
    "# Define data zones\n",
    "staging_dir = root_dir / \"staging\"\n",
    "curated_dir = root_dir / \"curated\"\n",
    "\n",
    "# Ensure curated directory exists\n",
    "curated_dir.mkdir(parents=True, exist_ok=True)\n"
   ]
  },
  {
   "cell_type": "code",
   "execution_count": 4,
   "id": "8d4dfc29",
   "metadata": {},
   "outputs": [],
   "source": [
    "# ╔══════════════════════════════════════════════════╗\n",
    "# ║ 📊 Cell 2 – Load Staged Daily Streams CSVs       ║\n",
    "# ╚══════════════════════════════════════════════════╝\n",
    "# Filenames in staging\n",
    "distrokid_path = staging_dir / \"daily_streams_distrokid.csv\"\n",
    "toolost_path   = staging_dir / \"daily_streams_toolost.csv\"\n",
    "\n",
    "# Read into DataFrames\n",
    "distrokid_df = pd.read_csv(distrokid_path)\n",
    "toolost_df   = pd.read_csv(toolost_path)\n"
   ]
  },
  {
   "cell_type": "code",
   "execution_count": 5,
   "id": "1cee797b",
   "metadata": {},
   "outputs": [
    {
     "name": "stdout",
     "output_type": "stream",
     "text": [
      "Tidy daily streams saved to C:\\Users\\Earth\\BEDROT PRODUCTIONS\\BEDROT DATA LAKE\\data_lake\\curated\\tidy_daily_streams.csv\n"
     ]
    }
   ],
   "source": [
    "# ╔══════════════════════════════════════════════════╗\n",
    "# ║ 🔀 Cell 3 – Combine & Save to Curated Zone        ║\n",
    "# ╚══════════════════════════════════════════════════╝\n",
    "# Tag each source\n",
    "distrokid_df[\"source\"] = \"distrokid\"\n",
    "toolost_df[\"source\"]   = \"toolost\"\n",
    "\n",
    "# Concatenate into one tidy table\n",
    "tidy_streams = pd.concat([distrokid_df, toolost_df], ignore_index=True, sort=False)\n",
    "\n",
    "# (Optional) sort by date column if present\n",
    "# tidy_streams[\"date\"] = pd.to_datetime(tidy_streams[\"date\"])\n",
    "# tidy_streams = tidy_streams.sort_values(\"date\")\n",
    "\n",
    "# Save to curated\n",
    "output_path = curated_dir / \"tidy_daily_streams.csv\"\n",
    "tidy_streams.to_csv(output_path, index=False)\n",
    "\n",
    "print(f\"Tidy daily streams saved to {output_path}\")\n"
   ]
  },
  {
   "cell_type": "code",
   "execution_count": null,
   "id": "64a05dd3",
   "metadata": {},
   "outputs": [],
   "source": []
  }
 ],
 "metadata": {
  "kernelspec": {
   "display_name": ".venv",
   "language": "python",
   "name": "python3"
  },
  "language_info": {
   "codemirror_mode": {
    "name": "ipython",
    "version": 3
   },
   "file_extension": ".py",
   "mimetype": "text/x-python",
   "name": "python",
   "nbconvert_exporter": "python",
   "pygments_lexer": "ipython3",
   "version": "3.11.9"
  }
 },
 "nbformat": 4,
 "nbformat_minor": 5
}
