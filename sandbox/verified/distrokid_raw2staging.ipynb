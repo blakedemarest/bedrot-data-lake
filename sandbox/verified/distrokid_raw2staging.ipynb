{
 "cells": [
  {
   "cell_type": "code",
   "execution_count": 1,
   "id": "2152b1e9",
   "metadata": {},
   "outputs": [],
   "source": [
    "# ─── Cell 1: Imports & Environment Setup ────────────────────────────────────────\n",
    "import os, re, json\n",
    "from pathlib import Path\n",
    "import pandas as pd\n",
    "from dotenv import load_dotenv\n",
    "from IPython.display import display\n",
    "\n",
    "load_dotenv()\n",
    "PROJECT_ROOT = Path(os.getenv(\"PROJECT_ROOT\"))\n",
    "RAW      = PROJECT_ROOT / os.getenv(\"RAW_ZONE\",     \"raw\")\n",
    "STAGING  = PROJECT_ROOT / os.getenv(\"STAGING_ZONE\", \"staging\")\n"
   ]
  },
  {
   "cell_type": "code",
   "execution_count": 2,
   "id": "8720484b",
   "metadata": {},
   "outputs": [],
   "source": [
    "# ─── Cell 2: Locate Latest HTML & Helpers ───────────────────────────────────────\n",
    "raw_dir = RAW / \"distrokid\" / \"streams\"\n",
    "dk_html   = sorted(raw_dir.glob(\"streams_stats_*.html\"), key=lambda p: p.stat().st_mtime, reverse=True)[0]\n",
    "apple_html= sorted(raw_dir.glob(\"applemusic_stats_*.html\"), key=lambda p: p.stat().st_mtime, reverse=True)[0]\n",
    "\n",
    "streams_re = re.compile(r'\"id\"\\s*:\\s*\"trend365day\".+?\"dataProvider\"\\s*:\\s*\\[([^\\]]+)\\]', re.DOTALL)\n",
    "apple_re   = re.compile(r'\"dataProvider\"\\s*:\\s*\\[([^\\]]+)\\]', re.DOTALL)\n"
   ]
  },
  {
   "cell_type": "code",
   "execution_count": 3,
   "id": "96757dd0",
   "metadata": {},
   "outputs": [],
   "source": [
    "# ─── Cell 3: Extract Daily Streams from DistroKid HTML ──────────────────────────\n",
    "text = dk_html.read_text(encoding=\"utf-8\", errors=\"ignore\")\n",
    "arr   = \"[\" + streams_re.search(text).group(1) + \"]\"\n",
    "arr   = re.sub(r',\\s*\\]', ']', arr)\n",
    "dk_df = (pd.DataFrame(json.loads(arr))\n",
    "           .rename(columns={\"category\":\"date\",\"column-1\":\"spotify_streams\"})\n",
    "           .assign(date=lambda d: pd.to_datetime(d[\"date\"]),\n",
    "                   spotify_streams=lambda d: d[\"spotify_streams\"].astype(int))\n",
    "           [[\"date\",\"spotify_streams\"]])\n"
   ]
  },
  {
   "cell_type": "code",
   "execution_count": 4,
   "id": "25f4e6b1",
   "metadata": {},
   "outputs": [],
   "source": [
    "# ─── Cell 4: Extract Daily Streams from Apple Music HTML ────────────────────────\n",
    "providers = []\n",
    "for m in apple_re.finditer(apple_html.read_text(encoding=\"utf-8\", errors=\"ignore\")):\n",
    "    block = \"[\" + m.group(1) + \"]\"\n",
    "    block = re.sub(r',\\s*\\]', ']', block)\n",
    "    try: providers.append(json.loads(block))\n",
    "    except: pass\n",
    "data = max(providers, key=len)\n",
    "date_key  = \"field\" if \"field\" in data[0] else \"category\"\n",
    "value_key = \"value\" if \"value\" in data[0] else (\"column-1\" if \"column-1\" in data[0] else list(data[0].keys())[1])\n",
    "\n",
    "apple_df = (pd.DataFrame(data)\n",
    "            .rename(columns={date_key:\"date\", value_key:\"apple_streams\"})\n",
    "            .assign(date=lambda d: pd.to_datetime(d[\"date\"]),\n",
    "                    apple_streams=lambda d: d[\"apple_streams\"].astype(int))\n",
    "            [[\"date\",\"apple_streams\"]])\n"
   ]
  },
  {
   "cell_type": "code",
   "execution_count": 5,
   "id": "9bb7b90f",
   "metadata": {},
   "outputs": [
    {
     "data": {
      "text/html": [
       "<div>\n",
       "<style scoped>\n",
       "    .dataframe tbody tr th:only-of-type {\n",
       "        vertical-align: middle;\n",
       "    }\n",
       "\n",
       "    .dataframe tbody tr th {\n",
       "        vertical-align: top;\n",
       "    }\n",
       "\n",
       "    .dataframe thead th {\n",
       "        text-align: right;\n",
       "    }\n",
       "</style>\n",
       "<table border=\"1\" class=\"dataframe\">\n",
       "  <thead>\n",
       "    <tr style=\"text-align: right;\">\n",
       "      <th></th>\n",
       "      <th>date</th>\n",
       "      <th>spotify_streams</th>\n",
       "      <th>apple_streams</th>\n",
       "      <th>combined_streams</th>\n",
       "    </tr>\n",
       "  </thead>\n",
       "  <tbody>\n",
       "    <tr>\n",
       "      <th>0</th>\n",
       "      <td>2024-08-23</td>\n",
       "      <td>40</td>\n",
       "      <td>0</td>\n",
       "      <td>40</td>\n",
       "    </tr>\n",
       "    <tr>\n",
       "      <th>1</th>\n",
       "      <td>2024-08-24</td>\n",
       "      <td>17</td>\n",
       "      <td>0</td>\n",
       "      <td>17</td>\n",
       "    </tr>\n",
       "    <tr>\n",
       "      <th>2</th>\n",
       "      <td>2024-08-25</td>\n",
       "      <td>6</td>\n",
       "      <td>0</td>\n",
       "      <td>6</td>\n",
       "    </tr>\n",
       "    <tr>\n",
       "      <th>3</th>\n",
       "      <td>2024-08-26</td>\n",
       "      <td>40</td>\n",
       "      <td>0</td>\n",
       "      <td>40</td>\n",
       "    </tr>\n",
       "    <tr>\n",
       "      <th>4</th>\n",
       "      <td>2024-08-27</td>\n",
       "      <td>31</td>\n",
       "      <td>0</td>\n",
       "      <td>31</td>\n",
       "    </tr>\n",
       "  </tbody>\n",
       "</table>\n",
       "</div>"
      ],
      "text/plain": [
       "        date  spotify_streams  apple_streams  combined_streams\n",
       "0 2024-08-23               40              0                40\n",
       "1 2024-08-24               17              0                17\n",
       "2 2024-08-25                6              0                 6\n",
       "3 2024-08-26               40              0                40\n",
       "4 2024-08-27               31              0                31"
      ]
     },
     "metadata": {},
     "output_type": "display_data"
    },
    {
     "name": "stdout",
     "output_type": "stream",
     "text": [
      "💾 saved → C:\\Users\\Earth\\BEDROT PRODUCTIONS\\BEDROT DATA LAKE\\data_lake\\staging\\daily_streams_distrokid.csv\n"
     ]
    }
   ],
   "source": [
    "# ─── Cell 5: Merge, QC, Save to STAGING ─────────────────────────────────────────\n",
    "merged = (dk_df.merge(apple_df, on=\"date\", how=\"outer\")\n",
    "                .fillna(0)\n",
    "                .astype({\"spotify_streams\":\"int64\",\"apple_streams\":\"int64\"}))\n",
    "merged[\"combined_streams\"] = merged[\"spotify_streams\"] + merged[\"apple_streams\"]\n",
    "\n",
    "STAGING.mkdir(parents=True, exist_ok=True)\n",
    "out_csv = STAGING / \"daily_streams_distrokid.csv\"\n",
    "merged.to_csv(out_csv, index=False)\n",
    "display(merged.head())\n",
    "print(f\"💾 saved → {out_csv}\")\n"
   ]
  },
  {
   "cell_type": "code",
   "execution_count": 6,
   "id": "c5350520",
   "metadata": {},
   "outputs": [
    {
     "name": "stdout",
     "output_type": "stream",
     "text": [
      "💾 bank details copied → C:\\Users\\Earth\\BEDROT PRODUCTIONS\\BEDROT DATA LAKE\\data_lake\\staging\\dk_bank_details.csv\n"
     ]
    }
   ],
   "source": [
    "# ─── Cell 6: Copy Bank Details CSV to STAGING ───────────────────────────────────\n",
    "finance_dir = RAW / \"distrokid\" / \"finance\"\n",
    "csvs = sorted(finance_dir.glob(\"dk_bank_details_*.csv\"), key=lambda p: p.stat().st_mtime, reverse=True)\n",
    "if csvs:\n",
    "    bank_dst = STAGING / \"dk_bank_details.csv\"\n",
    "    bank_dst.write_bytes(csvs[0].read_bytes())\n",
    "    print(f\"💾 bank details copied → {bank_dst}\")\n"
   ]
  },
  {
   "cell_type": "code",
   "execution_count": null,
   "id": "015067f4",
   "metadata": {},
   "outputs": [],
   "source": []
  }
 ],
 "metadata": {
  "kernelspec": {
   "display_name": ".venv",
   "language": "python",
   "name": "python3"
  },
  "language_info": {
   "codemirror_mode": {
    "name": "ipython",
    "version": 3
   },
   "file_extension": ".py",
   "mimetype": "text/x-python",
   "name": "python",
   "nbconvert_exporter": "python",
   "pygments_lexer": "ipython3",
   "version": "3.11.9"
  }
 },
 "nbformat": 4,
 "nbformat_minor": 5
}
