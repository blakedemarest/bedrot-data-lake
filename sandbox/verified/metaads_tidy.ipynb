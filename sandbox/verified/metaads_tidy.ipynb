{
 "cells": [
  {
   "cell_type": "code",
   "execution_count": 7,
   "id": "19856242",
   "metadata": {},
   "outputs": [
    {
     "name": "stdout",
     "output_type": "stream",
     "text": [
      "⤷ Loading data from: C:\\Users\\Earth\\BEDROT PRODUCTIONS\\BEDROT DATA LAKE\\data_lake\\landing\\meta_ads_dump_20250527_131455\n"
     ]
    }
   ],
   "source": [
    "# Cell 1: Setup & auto-detect latest landing folder\n",
    "from pathlib import Path\n",
    "import os\n",
    "import pandas as pd\n",
    "from dotenv import load_dotenv\n",
    "\n",
    "load_dotenv()\n",
    "project_root = Path(os.getenv(\"PROJECT_ROOT\"))\n",
    "landing_dir  = project_root / \"landing\"\n",
    "subdirs      = [d for d in landing_dir.iterdir() if d.is_dir()]\n",
    "if not subdirs:\n",
    "    raise FileNotFoundError(f\"No landing sub-folders under {landing_dir}\")\n",
    "data_dir     = max(subdirs, key=lambda d: d.stat().st_mtime)\n",
    "\n",
    "print(\"⤷ Loading data from:\", data_dir)\n"
   ]
  },
  {
   "cell_type": "code",
   "execution_count": 2,
   "id": "8c84af59",
   "metadata": {},
   "outputs": [
    {
     "name": "stdout",
     "output_type": "stream",
     "text": [
      "Loaded shapes → ads: (54, 10) adsets: (31, 13) campaigns: (13, 7) insights: (31, 13)\n"
     ]
    }
   ],
   "source": [
    "# Cell 2: Load raw JSON dumps\n",
    "ads       = pd.read_json(data_dir / \"ads.json\")\n",
    "adsets    = pd.read_json(data_dir / \"adsets.json\")\n",
    "campaigns = pd.read_json(data_dir / \"campaigns.json\")\n",
    "insights  = pd.read_json(data_dir / \"insights.json\")\n",
    "\n",
    "# Convert key metrics to numeric\n",
    "for col in (\"spend\",\"impressions\",\"clicks\",\"reach\",\"cpc\",\"ctr\",\"frequency\"):\n",
    "    if col in insights.columns:\n",
    "        insights[col] = pd.to_numeric(insights[col], errors=\"coerce\")\n",
    "\n",
    "print(\"Loaded shapes → ads:\", ads.shape,\n",
    "      \"adsets:\", adsets.shape,\n",
    "      \"campaigns:\", campaigns.shape,\n",
    "      \"insights:\", insights.shape)\n"
   ]
  },
  {
   "cell_type": "code",
   "execution_count": 3,
   "id": "48a882a9",
   "metadata": {},
   "outputs": [
    {
     "name": "stdout",
     "output_type": "stream",
     "text": [
      "ads_flat cols: ['ad_id', 'campaign_id', 'adset_id', 'ad_name', 'status', 'effective_status', 'created_time', 'updated_time', 'creative_id', 'tracking_specs']\n"
     ]
    }
   ],
   "source": [
    "# Cell 3: Flatten ads.json (including campaign_id & adset_id)\n",
    "import json\n",
    "\n",
    "ads_flat = ads.copy()\n",
    "ads_flat[\"creative_id\"] = ads_flat[\"creative\"].apply(lambda c: c.get(\"id\") if isinstance(c, dict) else None)\n",
    "ads_flat[\"tracking_specs\"] = ads_flat[\"tracking_specs\"].apply(json.dumps)\n",
    "\n",
    "ads_flat = ads_flat[[\n",
    "    \"id\",\"campaign_id\",\"adset_id\",\"name\",\"status\",\"effective_status\",\n",
    "    \"created_time\",\"updated_time\",\"creative_id\",\"tracking_specs\"\n",
    "]].rename(columns={\n",
    "    \"id\":\"ad_id\",\n",
    "    \"name\":\"ad_name\"\n",
    "})\n",
    "\n",
    "print(\"ads_flat cols:\", ads_flat.columns.tolist())\n"
   ]
  },
  {
   "cell_type": "code",
   "execution_count": 4,
   "id": "c295f880",
   "metadata": {},
   "outputs": [
    {
     "name": "stdout",
     "output_type": "stream",
     "text": [
      "campaigns_ cols: ['campaign_id', 'campaign_name', 'campaign_status', 'campaign_objective', 'start_time', 'created_time', 'updated_time']\n",
      "adsets_ cols: ['adset_id', 'adset_name', 'adset_status', 'adset_daily_budget', 'adset_lifetime_budget', 'bid_strategy', 'targeting', 'optimization_goal', 'start_time', 'pacing_type', 'created_time', 'updated_time']\n"
     ]
    }
   ],
   "source": [
    "# Cell 4: Prepare campaigns_ & adsets_ for merge (drop campaign_id from adsets_)\n",
    "campaigns_ = campaigns.rename(columns={\n",
    "    \"id\":           \"campaign_id\",\n",
    "    \"name\":         \"campaign_name\",\n",
    "    \"status\":       \"campaign_status\",\n",
    "    \"objective\":    \"campaign_objective\"\n",
    "})\n",
    "\n",
    "adsets_ = adsets.rename(columns={\n",
    "    \"id\":              \"adset_id\",\n",
    "    \"name\":            \"adset_name\",\n",
    "    \"status\":          \"adset_status\",\n",
    "    \"daily_budget\":    \"adset_daily_budget\",\n",
    "    \"lifetime_budget\": \"adset_lifetime_budget\"\n",
    "}).drop(columns=[\"campaign_id\"])\n",
    "\n",
    "print(\"campaigns_ cols:\", campaigns_.columns.tolist())\n",
    "print(\"adsets_ cols:\",    adsets_.columns.tolist())\n"
   ]
  },
  {
   "cell_type": "code",
   "execution_count": 5,
   "id": "399d954c",
   "metadata": {},
   "outputs": [
    {
     "name": "stdout",
     "output_type": "stream",
     "text": [
      "Tidy shape: (54, 38)\n"
     ]
    },
    {
     "data": {
      "text/html": [
       "<div>\n",
       "<style scoped>\n",
       "    .dataframe tbody tr th:only-of-type {\n",
       "        vertical-align: middle;\n",
       "    }\n",
       "\n",
       "    .dataframe tbody tr th {\n",
       "        vertical-align: top;\n",
       "    }\n",
       "\n",
       "    .dataframe thead th {\n",
       "        text-align: right;\n",
       "    }\n",
       "</style>\n",
       "<table border=\"1\" class=\"dataframe\">\n",
       "  <thead>\n",
       "    <tr style=\"text-align: right;\">\n",
       "      <th></th>\n",
       "      <th>campaign_id</th>\n",
       "      <th>campaign_name_x</th>\n",
       "      <th>adset_id</th>\n",
       "      <th>adset_name_x</th>\n",
       "      <th>spend</th>\n",
       "      <th>impressions</th>\n",
       "      <th>clicks</th>\n",
       "      <th>cpc</th>\n",
       "      <th>ctr</th>\n",
       "      <th>reach</th>\n",
       "      <th>...</th>\n",
       "      <th>created_time_y</th>\n",
       "      <th>updated_time_y</th>\n",
       "      <th>ad_id</th>\n",
       "      <th>ad_name</th>\n",
       "      <th>status</th>\n",
       "      <th>effective_status</th>\n",
       "      <th>created_time</th>\n",
       "      <th>updated_time</th>\n",
       "      <th>creative_id</th>\n",
       "      <th>tracking_specs</th>\n",
       "    </tr>\n",
       "  </thead>\n",
       "  <tbody>\n",
       "    <tr>\n",
       "      <th>0</th>\n",
       "      <td>120224907266750080</td>\n",
       "      <td>PIG1987 - THE STATE OF THE WORLD - BROAD</td>\n",
       "      <td>120224907266740080</td>\n",
       "      <td>THE STATE OF THE WORLD - AD 1</td>\n",
       "      <td>3.41</td>\n",
       "      <td>1321</td>\n",
       "      <td>8</td>\n",
       "      <td>0.426250</td>\n",
       "      <td>0.605602</td>\n",
       "      <td>1299</td>\n",
       "      <td>...</td>\n",
       "      <td>2025-05-23T06:58:12-0700</td>\n",
       "      <td>2025-05-23T21:58:37-0700</td>\n",
       "      <td>120224907266800080</td>\n",
       "      <td>AD1</td>\n",
       "      <td>ACTIVE</td>\n",
       "      <td>ADSET_PAUSED</td>\n",
       "      <td>2025-05-23T06:58:13-0700</td>\n",
       "      <td>2025-05-23T07:01:41-0700</td>\n",
       "      <td>24188788294059211</td>\n",
       "      <td>[{\"action.type\": [\"offsite_conversion\"], \"fb_p...</td>\n",
       "    </tr>\n",
       "    <tr>\n",
       "      <th>1</th>\n",
       "      <td>120224907266750080</td>\n",
       "      <td>PIG1987 - THE STATE OF THE WORLD - BROAD</td>\n",
       "      <td>120224907266810080</td>\n",
       "      <td>THE STATE OF THE WORLD - AD 3</td>\n",
       "      <td>19.43</td>\n",
       "      <td>11562</td>\n",
       "      <td>146</td>\n",
       "      <td>0.133082</td>\n",
       "      <td>1.262757</td>\n",
       "      <td>10146</td>\n",
       "      <td>...</td>\n",
       "      <td>2025-05-23T06:58:01-0700</td>\n",
       "      <td>2025-05-23T06:58:01-0700</td>\n",
       "      <td>120224907266760080</td>\n",
       "      <td>AD3</td>\n",
       "      <td>ACTIVE</td>\n",
       "      <td>ACTIVE</td>\n",
       "      <td>2025-05-23T06:58:02-0700</td>\n",
       "      <td>2025-05-23T07:02:14-0700</td>\n",
       "      <td>566770032783189</td>\n",
       "      <td>[{\"action.type\": [\"offsite_conversion\"], \"fb_p...</td>\n",
       "    </tr>\n",
       "    <tr>\n",
       "      <th>2</th>\n",
       "      <td>120224907266750080</td>\n",
       "      <td>PIG1987 - THE STATE OF THE WORLD - BROAD</td>\n",
       "      <td>120224907266820080</td>\n",
       "      <td>THE STATE OF THE WORLD - AD 4</td>\n",
       "      <td>8.33</td>\n",
       "      <td>4238</td>\n",
       "      <td>51</td>\n",
       "      <td>0.163333</td>\n",
       "      <td>1.203398</td>\n",
       "      <td>4082</td>\n",
       "      <td>...</td>\n",
       "      <td>2025-05-23T06:58:16-0700</td>\n",
       "      <td>2025-05-24T21:09:19-0700</td>\n",
       "      <td>120224907266770080</td>\n",
       "      <td>AD4</td>\n",
       "      <td>ACTIVE</td>\n",
       "      <td>ADSET_PAUSED</td>\n",
       "      <td>2025-05-23T06:58:17-0700</td>\n",
       "      <td>2025-05-23T07:05:35-0700</td>\n",
       "      <td>2178986529195170</td>\n",
       "      <td>[{\"action.type\": [\"offsite_conversion\"], \"fb_p...</td>\n",
       "    </tr>\n",
       "  </tbody>\n",
       "</table>\n",
       "<p>3 rows × 38 columns</p>\n",
       "</div>"
      ],
      "text/plain": [
       "          campaign_id                           campaign_name_x  \\\n",
       "0  120224907266750080  PIG1987 - THE STATE OF THE WORLD - BROAD   \n",
       "1  120224907266750080  PIG1987 - THE STATE OF THE WORLD - BROAD   \n",
       "2  120224907266750080  PIG1987 - THE STATE OF THE WORLD - BROAD   \n",
       "\n",
       "             adset_id                   adset_name_x  spend  impressions  \\\n",
       "0  120224907266740080  THE STATE OF THE WORLD - AD 1   3.41         1321   \n",
       "1  120224907266810080  THE STATE OF THE WORLD - AD 3  19.43        11562   \n",
       "2  120224907266820080  THE STATE OF THE WORLD - AD 4   8.33         4238   \n",
       "\n",
       "   clicks       cpc       ctr  reach  ...            created_time_y  \\\n",
       "0       8  0.426250  0.605602   1299  ...  2025-05-23T06:58:12-0700   \n",
       "1     146  0.133082  1.262757  10146  ...  2025-05-23T06:58:01-0700   \n",
       "2      51  0.163333  1.203398   4082  ...  2025-05-23T06:58:16-0700   \n",
       "\n",
       "             updated_time_y               ad_id ad_name  status  \\\n",
       "0  2025-05-23T21:58:37-0700  120224907266800080     AD1  ACTIVE   \n",
       "1  2025-05-23T06:58:01-0700  120224907266760080     AD3  ACTIVE   \n",
       "2  2025-05-24T21:09:19-0700  120224907266770080     AD4  ACTIVE   \n",
       "\n",
       "  effective_status              created_time              updated_time  \\\n",
       "0     ADSET_PAUSED  2025-05-23T06:58:13-0700  2025-05-23T07:01:41-0700   \n",
       "1           ACTIVE  2025-05-23T06:58:02-0700  2025-05-23T07:02:14-0700   \n",
       "2     ADSET_PAUSED  2025-05-23T06:58:17-0700  2025-05-23T07:05:35-0700   \n",
       "\n",
       "         creative_id                                     tracking_specs  \n",
       "0  24188788294059211  [{\"action.type\": [\"offsite_conversion\"], \"fb_p...  \n",
       "1    566770032783189  [{\"action.type\": [\"offsite_conversion\"], \"fb_p...  \n",
       "2   2178986529195170  [{\"action.type\": [\"offsite_conversion\"], \"fb_p...  \n",
       "\n",
       "[3 rows x 38 columns]"
      ]
     },
     "execution_count": 5,
     "metadata": {},
     "output_type": "execute_result"
    }
   ],
   "source": [
    "# Cell 5: Build the tidy DataFrame\n",
    "tidy = (\n",
    "    insights\n",
    "      .merge(campaigns_, on=\"campaign_id\", how=\"left\")\n",
    "      .merge(adsets_,    on=\"adset_id\",    how=\"left\")\n",
    "      .merge(ads_flat,   on=[\"campaign_id\",\"adset_id\"], how=\"left\")\n",
    ")\n",
    "\n",
    "# Drop any duplicated columns and inspect\n",
    "tidy = tidy.loc[:, ~tidy.columns.duplicated()]\n",
    "print(\"Tidy shape:\", tidy.shape)\n",
    "tidy.head(3)\n"
   ]
  },
  {
   "cell_type": "code",
   "execution_count": 6,
   "id": "087abe17",
   "metadata": {},
   "outputs": [
    {
     "name": "stdout",
     "output_type": "stream",
     "text": [
      "✔ Wrote tidy CSV to: C:\\Users\\Earth\\BEDROT PRODUCTIONS\\BEDROT DATA LAKE\\data_lake\\staging\\tidy_metaads.csv\n"
     ]
    }
   ],
   "source": [
    "# Cell 6: Export tidy DataFrame to CSV (to staging folder)\n",
    "staging_dir = project_root / \"staging\"\n",
    "staging_dir.mkdir(parents=True, exist_ok=True)\n",
    "\n",
    "out_path = staging_dir / \"tidy_metaads.csv\"\n",
    "tidy.to_csv(out_path, index=False)\n",
    "\n",
    "print(\"✔ Wrote tidy CSV to:\", out_path)\n"
   ]
  },
  {
   "cell_type": "code",
   "execution_count": null,
   "id": "8cdeae89",
   "metadata": {},
   "outputs": [],
   "source": []
  }
 ],
 "metadata": {
  "kernelspec": {
   "display_name": ".venv",
   "language": "python",
   "name": "python3"
  },
  "language_info": {
   "codemirror_mode": {
    "name": "ipython",
    "version": 3
   },
   "file_extension": ".py",
   "mimetype": "text/x-python",
   "name": "python",
   "nbconvert_exporter": "python",
   "pygments_lexer": "ipython3",
   "version": "3.11.9"
  }
 },
 "nbformat": 4,
 "nbformat_minor": 5
}
