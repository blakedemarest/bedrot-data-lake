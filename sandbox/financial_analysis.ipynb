{
 "cells": [
  {
   "cell_type": "markdown",
   "id": "4b3fd469",
   "metadata": {},
   "source": [
    "# 📊 BEDROT PRODUCTIONS — Streaming Revenue & Profitability Analysis  \n",
    "*Data window: Oct-2024 → May-2025*  \n",
    "\n",
    "<small>Notebook generated <<date>>.</small>\n",
    "\n",
    "**Table of Contents**\n",
    "\n",
    "1. [Imports & Config](#1)  \n",
    "2. [Load Raw Data](#2)  \n",
    "3. [Monthly Revenue Consolidation](#3)  \n",
    "4. [MoM Growth Calculations](#4)  \n",
    "5. [Forecast Models](#5)  \n",
    "    * 5.1 Holt-Winters (Multiplicative)  \n",
    "    * 5.2 Log-ARIMA (Drift)  \n",
    "6. [Scenario Builder (Best | Base | Worst)](#6)  \n",
    "7. [Cost Architecture](#7)  \n",
    "8. [Profitability Timeline Simulation](#8)  \n",
    "9. [Dashboards & Business KPIs](#9)  \n",
    "10. [Appendix — Helper Utilities](#10)\n"
   ]
  },
  {
   "cell_type": "code",
   "execution_count": 3,
   "id": "e1fd4af7",
   "metadata": {},
   "outputs": [
    {
     "name": "stdout",
     "output_type": "stream",
     "text": [
      "↳ Installing missing dependency: statsmodels …\n",
      "   ✔ statsmodels installed.\n",
      "↳ Installing missing dependency: scikit-learn …\n",
      "   ✔ scikit-learn installed.\n",
      "✅  All dependencies satisfied.\n"
     ]
    }
   ],
   "source": [
    "# %% [markdown]\n",
    "# # 🛠 0 Environment Setup\n",
    "# This cell auto-installs any missing libraries so the notebook runs end-to-end\n",
    "# on a fresh Jupyter/Lab kernel. Nothing else in the workflow changes.\n",
    "\n",
    "# %%\n",
    "import importlib, subprocess, sys, warnings\n",
    "warnings.filterwarnings(\"ignore\")\n",
    "\n",
    "def _ensure(pkg:str):\n",
    "    \"\"\"Import `pkg`; if missing, install via pip silently.\"\"\"\n",
    "    try:\n",
    "        importlib.import_module(pkg)\n",
    "    except ModuleNotFoundError:\n",
    "        print(f\"↳ Installing missing dependency: {pkg} …\")\n",
    "        subprocess.check_call([sys.executable, \"-m\", \"pip\", \"install\", \"-q\", pkg])\n",
    "        print(f\"   ✔ {pkg} installed.\")\n",
    "\n",
    "for _p in [\"statsmodels\", \"pandas\", \"numpy\", \"matplotlib\", \"scikit-learn\"]:\n",
    "    _ensure(_p)\n",
    "\n",
    "print(\"✅  All dependencies satisfied.\")\n"
   ]
  },
  {
   "cell_type": "code",
   "execution_count": 5,
   "id": "dd33a44a",
   "metadata": {},
   "outputs": [],
   "source": [
    "# %% [markdown]\n",
    "# ## 1 Imports & global settings  \n",
    "# We load scientific, plotting, and forecasting libraries.  \n",
    "# Two environment variables hold the payout file paths so the notebook stays portable\n",
    "# across machines (no hard-coded local paths).\n",
    "\n",
    "# %\n",
    "import os, math, warnings\n",
    "from pathlib import Path\n",
    "import numpy as np\n",
    "import pandas as pd\n",
    "import matplotlib.pyplot as plt\n",
    "from statsmodels.tsa.holtwinters import ExponentialSmoothing\n",
    "from statsmodels.tsa.arima.model import ARIMA\n",
    "from statsmodels.graphics.tsaplots import plot_acf, plot_pacf\n",
    "from sklearn.metrics import mean_absolute_error, mean_squared_error\n",
    "\n",
    "warnings.filterwarnings(\"ignore\")\n",
    "plt.style.use(\"default\")\n",
    "pd.options.display.float_format = \"{:,.2f}\".format\n",
    "\n",
    "CAPITAL_ONE_CSV = Path(os.getenv(\"CAPITAL_ONE_CSV\", \"MISSING_CAPITAL_ONE.csv\"))\n",
    "DISTROKID_TSV  = Path(os.getenv(\"DISTROKID_TSV\",  \"MISSING_DISTROKID.tsv\"))\n"
   ]
  },
  {
   "cell_type": "code",
   "execution_count": null,
   "id": "ba47f6fd",
   "metadata": {},
   "outputs": [],
   "source": []
  }
 ],
 "metadata": {
  "kernelspec": {
   "display_name": ".venv",
   "language": "python",
   "name": "python3"
  },
  "language_info": {
   "codemirror_mode": {
    "name": "ipython",
    "version": 3
   },
   "file_extension": ".py",
   "mimetype": "text/x-python",
   "name": "python",
   "nbconvert_exporter": "python",
   "pygments_lexer": "ipython3",
   "version": "3.11.9"
  }
 },
 "nbformat": 4,
 "nbformat_minor": 5
}
