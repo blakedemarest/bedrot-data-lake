{
 "cells": [
  {
   "cell_type": "code",
   "execution_count": 1,
   "id": "bf6736ca",
   "metadata": {},
   "outputs": [],
   "source": [
    "# ─── Cell 1: Imports & Environment Setup ────────────────────────────────────────\n",
    "import os, hashlib, datetime, shutil\n",
    "from pathlib import Path\n",
    "import pandas as pd\n",
    "from dotenv import load_dotenv\n",
    "\n",
    "load_dotenv()\n",
    "PROJECT_ROOT = Path(os.getenv(\"PROJECT_ROOT\"))\n",
    "STAGING = PROJECT_ROOT / os.getenv(\"STAGING_ZONE\",  \"staging\")\n",
    "CURATED = PROJECT_ROOT / os.getenv(\"CURATED_ZONE\",  \"curated\")\n",
    "ARCHIVE = PROJECT_ROOT / os.getenv(\"ARCHIVE_ZONE\",  \"archive\")\n"
   ]
  },
  {
   "cell_type": "code",
   "execution_count": 2,
   "id": "48f185f1",
   "metadata": {},
   "outputs": [],
   "source": [
    "# ─── Cell 2: Update tidy_daily_streams.csv without touching TooLost rows ────────\n",
    "dk_src = STAGING / \"daily_streams_distrokid.csv\"\n",
    "df_dk  = pd.read_csv(dk_src, parse_dates=[\"date\"])\n",
    "df_dk[\"source\"] = \"distrokid\"\n",
    "\n",
    "cur_path = CURATED / \"tidy_daily_streams.csv\"\n",
    "if cur_path.exists():\n",
    "    cur_df = pd.read_csv(cur_path, parse_dates=[\"date\"])\n",
    "    cur_df = cur_df[cur_df[\"source\"] != \"distrokid\"]        # remove stale DK rows\n",
    "    merged = pd.concat([cur_df, df_dk], ignore_index=True)\n",
    "else:\n",
    "    cur_path.parent.mkdir(parents=True, exist_ok=True)\n",
    "    merged = df_dk\n",
    "\n",
    "num_cols = [c for c in merged.columns if c not in (\"date\",\"source\")]\n",
    "merged[num_cols] = merged[num_cols].round().astype(\"int64\")\n",
    "\n",
    "order = pd.CategoricalDtype(categories=[\"distrokid\",\"toolost\"], ordered=True)\n",
    "merged[\"source\"] = merged[\"source\"].astype(order)\n",
    "merged = merged.sort_values([\"source\",\"date\"]).reset_index(drop=True)\n"
   ]
  },
  {
   "cell_type": "code",
   "execution_count": 3,
   "id": "e476fd36",
   "metadata": {},
   "outputs": [
    {
     "name": "stdout",
     "output_type": "stream",
     "text": [
      "✅ Curated updated → curated\\tidy_daily_streams.csv\n"
     ]
    }
   ],
   "source": [
    "# ─── Cell 3: Save/Archive tidy_daily_streams.csv ────────────────────────────────\n",
    "def fhash(p: Path): return hashlib.md5(p.read_bytes()).hexdigest()\n",
    "def dfhash(df):     return hashlib.md5(df.to_csv(index=False).encode()).hexdigest()\n",
    "\n",
    "if cur_path.exists() and fhash(cur_path) == dfhash(merged):\n",
    "    print(\"↩︎ No changes – curated already up-to-date.\")\n",
    "else:\n",
    "    if cur_path.exists():\n",
    "        ts   = datetime.datetime.now().strftime(\"%Y%m%dT%H%M%S\")\n",
    "        ARCHIVE.mkdir(parents=True, exist_ok=True)\n",
    "        shutil.copy2(cur_path, ARCHIVE / f\"tidy_daily_streams_{ts}.csv\")\n",
    "    merged.to_csv(cur_path, index=False)\n",
    "    print(f\"✅ Curated updated → {cur_path.relative_to(PROJECT_ROOT)}\")\n"
   ]
  },
  {
   "cell_type": "code",
   "execution_count": 4,
   "id": "04c0c7e0",
   "metadata": {},
   "outputs": [
    {
     "name": "stdout",
     "output_type": "stream",
     "text": [
      "↩︎ Bank details unchanged.\n"
     ]
    }
   ],
   "source": [
    "# ─── Cell 4: Promote Bank Details CSV & Archive ────────────────────────────────\n",
    "bank_src = STAGING / \"dk_bank_details.csv\"\n",
    "bank_dst = CURATED / \"dk_bank_details.csv\"\n",
    "\n",
    "if bank_src.exists():\n",
    "    if bank_dst.exists() and fhash(bank_dst) == fhash(bank_src):\n",
    "        print(\"↩︎ Bank details unchanged.\")\n",
    "    else:\n",
    "        if bank_dst.exists():\n",
    "            ts = datetime.datetime.now().strftime(\"%Y%m%dT%H%M%S\")\n",
    "            shutil.copy2(bank_dst, ARCHIVE / f\"dk_bank_details_{ts}.csv\")\n",
    "        shutil.copy2(bank_src, bank_dst)\n",
    "        print(f\"✅ Bank details promoted → {bank_dst.relative_to(PROJECT_ROOT)}\")\n"
   ]
  },
  {
   "cell_type": "code",
   "execution_count": null,
   "id": "24b7fd9d",
   "metadata": {},
   "outputs": [],
   "source": []
  }
 ],
 "metadata": {
  "kernelspec": {
   "display_name": ".venv",
   "language": "python",
   "name": "python3"
  },
  "language_info": {
   "codemirror_mode": {
    "name": "ipython",
    "version": 3
   },
   "file_extension": ".py",
   "mimetype": "text/x-python",
   "name": "python",
   "nbconvert_exporter": "python",
   "pygments_lexer": "ipython3",
   "version": "3.11.9"
  }
 },
 "nbformat": 4,
 "nbformat_minor": 5
}
