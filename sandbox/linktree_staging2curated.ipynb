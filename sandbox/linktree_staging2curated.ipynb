{
 "cells": [
  {
   "cell_type": "markdown",
   "id": "2f52f437",
   "metadata": {},
   "source": [
    "# %% [markdown]\n",
    "# # Cell 0 – Notebook preamble  \n",
    "# Autogenerate **Linktree Staging→Curated cleaner**.  \n",
    "# *Guided by `LLM_cleaner_guidelines.md` (Change-ID 2025-06-12-linktree_cleaner_guidelines).*\n"
   ]
  },
  {
   "cell_type": "code",
   "execution_count": 1,
   "id": "5bc53dee",
   "metadata": {},
   "outputs": [
    {
     "name": "stdout",
     "output_type": "stream",
     "text": [
      "[INFO] Staging dir:  C:\\Users\\Earth\\BEDROT PRODUCTIONS\\BEDROT DATA LAKE\\data_lake\\staging\\linktree\n",
      "[INFO] Curated dir:  C:\\Users\\Earth\\BEDROT PRODUCTIONS\\BEDROT DATA LAKE\\data_lake\\curated\\linktree\n"
     ]
    }
   ],
   "source": [
    "# %%  \n",
    "# Cell 1 – Imports & constants\n",
    "import os, json, argparse\n",
    "from datetime import datetime\n",
    "from pathlib import Path\n",
    "import pandas as pd\n",
    "\n",
    "PLATFORM      = \"linktree\"\n",
    "PROJECT_ROOT  = Path(os.environ[\"PROJECT_ROOT\"])\n",
    "\n",
    "STAGING_DIR   = PROJECT_ROOT / \"staging\" / PLATFORM   # holds CSV from previous step\n",
    "CURATED_DIR   = PROJECT_ROOT / \"curated\" / PLATFORM\n",
    "\n",
    "for _d in (STAGING_DIR, CURATED_DIR):\n",
    "    _d.mkdir(parents=True, exist_ok=True)\n",
    "\n",
    "print(f\"[INFO] Staging dir:  {STAGING_DIR}\")\n",
    "print(f\"[INFO] Curated dir:  {CURATED_DIR}\")\n"
   ]
  },
  {
   "cell_type": "code",
   "execution_count": 2,
   "id": "ba1396c2",
   "metadata": {},
   "outputs": [],
   "source": [
    "# %%  \n",
    "# Cell 2 – Helper: business-rule curation\n",
    "def curate_dataframe(df: pd.DataFrame) -> pd.DataFrame:\n",
    "    \"\"\"\n",
    "    Apply Linktree-specific business rules:\n",
    "    1. Deduplicate on 'date'\n",
    "    2. Drop '__typename'\n",
    "    3. Ensure 'clickThroughRate' is correct (re-calc if missing/NaN)\n",
    "    \"\"\"\n",
    "    if \"__typename\" in df.columns:\n",
    "        df = df.drop(columns=\"__typename\")\n",
    "\n",
    "    # Re-calculate CTR if null or differs\n",
    "    with pd.option_context('mode.use_inf_as_na', True):\n",
    "        ctr = df[\"totalClicks\"] / df[\"totalViews\"].replace({0: pd.NA})\n",
    "        df[\"clickThroughRate\"] = df[\"clickThroughRate\"].fillna(ctr)\n",
    "        df[\"clickThroughRate\"] = df[\"clickThroughRate\"].round(4)\n",
    "\n",
    "    # Keep the latest row per date (there should be only one)\n",
    "    df = (\n",
    "        df.sort_values(\"date\")\n",
    "          .drop_duplicates(subset=[\"date\"], keep=\"last\")\n",
    "          .reset_index(drop=True)\n",
    "    )\n",
    "    return df\n"
   ]
  },
  {
   "cell_type": "code",
   "execution_count": 3,
   "id": "9b5a54df",
   "metadata": {},
   "outputs": [],
   "source": [
    "# %%  \n",
    "# Cell 3 – Load & merge staging CSV files\n",
    "def load_staging(files: list[Path]) -> pd.DataFrame:\n",
    "    frames = []\n",
    "    for fp in files:\n",
    "        try:\n",
    "            frames.append(pd.read_csv(fp, parse_dates=[\"date\"]))\n",
    "        except Exception as e:\n",
    "            print(f\"[ERROR] {fp.name}: {e}\")\n",
    "    if not frames:\n",
    "        raise RuntimeError(\"No staging CSV files read successfully\")\n",
    "    return pd.concat(frames, ignore_index=True)\n"
   ]
  },
  {
   "cell_type": "code",
   "execution_count": 5,
   "id": "9a553483",
   "metadata": {},
   "outputs": [],
   "source": [
    "# %%  \n",
    "# Cell 4 – Cleaner script template (writes CSV + Parquet)  ★ FIXED ★\n",
    "CLEANER_TEMPLATE = f'''\"\"\"\n",
    "linktree_staging2curated.py\n",
    "Staging → Curated cleaner for Linktree analytics.\n",
    "\n",
    "Guided by `LLM_cleaner_guidelines.md`.\n",
    "Reads **CSV** from staging, writes **CSV and Parquet** to curated.\n",
    "\"\"\"\n",
    "\n",
    "import os, argparse\n",
    "from datetime import datetime\n",
    "from pathlib import Path\n",
    "import pandas as pd\n",
    "\n",
    "PLATFORM      = \"linktree\"\n",
    "PROJECT_ROOT  = Path(os.environ[\"PROJECT_ROOT\"])\n",
    "STAGING_DIR   = PROJECT_ROOT / \"staging\" / PLATFORM\n",
    "CURATED_DIR   = PROJECT_ROOT / \"curated\" / PLATFORM\n",
    "\n",
    "for _d in (STAGING_DIR, CURATED_DIR):\n",
    "    _d.mkdir(parents=True, exist_ok=True)\n",
    "\n",
    "def curate_dataframe(df: pd.DataFrame) -> pd.DataFrame:\n",
    "    if \"__typename\" in df.columns:\n",
    "        df = df.drop(columns=\"__typename\")\n",
    "\n",
    "    # Re-calculate CTR if missing / NaN\n",
    "    with pd.option_context(\"mode.use_inf_as_na\", True):\n",
    "        ctr = df[\"totalClicks\"] / df[\"totalViews\"].replace({{0: pd.NA}})\n",
    "        df[\"clickThroughRate\"] = df[\"clickThroughRate\"].fillna(ctr)\n",
    "        df[\"clickThroughRate\"] = df[\"clickThroughRate\"].round(4)\n",
    "\n",
    "    # Keep last record per date\n",
    "    df = (\n",
    "        df.sort_values(\"date\")\n",
    "          .drop_duplicates(subset=[\"date\"], keep=\"last\")\n",
    "          .reset_index(drop=True)\n",
    "    )\n",
    "    return df\n",
    "\n",
    "def load_staging(files: list[Path]) -> pd.DataFrame:\n",
    "    frames = []\n",
    "    for fp in files:\n",
    "        try:\n",
    "            frames.append(pd.read_csv(fp, parse_dates=[\"date\"]))\n",
    "        except Exception as e:\n",
    "            print(f\"[ERROR] {{fp.name}}: {{e}}\")\n",
    "    if not frames:\n",
    "        raise RuntimeError(\"No staging CSV files read\")\n",
    "    return pd.concat(frames, ignore_index=True)\n",
    "\n",
    "def main():\n",
    "    parser = argparse.ArgumentParser(description=\"Linktree Staging→Curated cleaner\")\n",
    "    parser.add_argument(\"--input\", help=\"Specific staging CSV file\", default=None)\n",
    "    args = parser.parse_args()\n",
    "\n",
    "    files = [Path(args.input)] if args.input else sorted(STAGING_DIR.glob(\"*.csv\"))\n",
    "    if not files:\n",
    "        raise RuntimeError(f\"No staging CSV files found in {{STAGING_DIR}}\")\n",
    "\n",
    "    df_raw = load_staging(files)\n",
    "    df_cur = curate_dataframe(df_raw)\n",
    "\n",
    "    ts   = datetime.now().strftime(\"%Y%m%d_%H%M%S\")\n",
    "    stem = f\"linktree_analytics_curated_{{ts}}\"\n",
    "\n",
    "    # CSV\n",
    "    csv_path = CURATED_DIR / f\"{{stem}}.csv\"\n",
    "    df_cur.to_csv(csv_path, index=False, encoding=\"utf-8\")\n",
    "    print(f\"[CURATED] CSV → {{csv_path.name}}  ({{len(df_cur)}} rows)\")\n",
    "\n",
    "    # Parquet (optional)\n",
    "    try:\n",
    "        pq_path = CURATED_DIR / f\"{{stem}}.parquet\"\n",
    "        df_cur.to_parquet(pq_path, index=False)\n",
    "        print(f\"[CURATED] Parquet → {{pq_path.name}}\")\n",
    "    except Exception as e:\n",
    "        print(f\"[ERROR] Parquet write failed: {{e}} (CSV still produced)\")\n",
    "\n",
    "if __name__ == \"__main__\":\n",
    "    main()\n",
    "'''\n"
   ]
  },
  {
   "cell_type": "code",
   "execution_count": 6,
   "id": "b8b38fe2",
   "metadata": {},
   "outputs": [
    {
     "name": "stdout",
     "output_type": "stream",
     "text": [
      "[INFO] Cleaner written to src\\linktree\\cleaners\\linktree_staging2curated.py\n"
     ]
    }
   ],
   "source": [
    "# %%  \n",
    "# Cell 5 – Write the cleaner script to disk\n",
    "cleaner_dir = PROJECT_ROOT / \"src\" / \"linktree\" / \"cleaners\"\n",
    "cleaner_dir.mkdir(parents=True, exist_ok=True)\n",
    "\n",
    "outfile = cleaner_dir / \"linktree_staging2curated.py\"\n",
    "outfile.write_text(CLEANER_TEMPLATE, encoding=\"utf-8\")\n",
    "\n",
    "print(f\"[INFO] Cleaner written to {outfile.relative_to(PROJECT_ROOT)}\")\n"
   ]
  }
 ],
 "metadata": {
  "kernelspec": {
   "display_name": ".venv",
   "language": "python",
   "name": "python3"
  },
  "language_info": {
   "codemirror_mode": {
    "name": "ipython",
    "version": 3
   },
   "file_extension": ".py",
   "mimetype": "text/x-python",
   "name": "python",
   "nbconvert_exporter": "python",
   "pygments_lexer": "ipython3",
   "version": "3.11.9"
  }
 },
 "nbformat": 4,
 "nbformat_minor": 5
}
