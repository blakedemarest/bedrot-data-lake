{
 "cells": [
  {
   "cell_type": "code",
   "execution_count": null,
   "id": "1f9ad122",
   "metadata": {},
   "outputs": [
    {
     "name": "stdout",
     "output_type": "stream",
     "text": [
      "Data directory: C:\\Users\\Earth\\BEDROT PRODUCTIONS\\BEDROT DATA LAKE\\data_lake\\landing\\20250526_184101\n",
      "Files: [WindowsPath('C:/Users/Earth/BEDROT PRODUCTIONS/BEDROT DATA LAKE/data_lake/landing/20250526_184101/ads.json'), WindowsPath('C:/Users/Earth/BEDROT PRODUCTIONS/BEDROT DATA LAKE/data_lake/landing/20250526_184101/adsets.json'), WindowsPath('C:/Users/Earth/BEDROT PRODUCTIONS/BEDROT DATA LAKE/data_lake/landing/20250526_184101/campaigns.json'), WindowsPath('C:/Users/Earth/BEDROT PRODUCTIONS/BEDROT DATA LAKE/data_lake/landing/20250526_184101/insights.json')]\n"
     ]
    }
   ],
   "source": [
    "# Cell 1: Setup and auto-detect latest landing folder\n",
    "from pathlib import Path\n",
    "import os\n",
    "import pandas as pd\n",
    "from dotenv import load_dotenv\n",
    "\n",
    "# load PROJECT_ROOT from .env\n",
    "load_dotenv()\n",
    "project_root = Path(os.getenv(\"PROJECT_ROOT\"))\n",
    "\n",
    "# locate landing directory and pick the most recently modified sub-folder\n",
    "landing_dir = project_root / \"landing\"\n",
    "subdirs = [d for d in landing_dir.iterdir() if d.is_dir()]\n",
    "if not subdirs:\n",
    "    raise FileNotFoundError(f\"No subdirectories found in {landing_dir}\")\n",
    "data_dir = max(subdirs, key=lambda d: d.stat().st_mtime)\n",
    "\n",
    "# sanity check\n",
    "print(\"Using data directory:\", data_dir)\n",
    "print(\"Files:\", [p.name for p in data_dir.iterdir()])\n"
   ]
  },
  {
   "cell_type": "code",
   "execution_count": 2,
   "id": "7d2599f7",
   "metadata": {},
   "outputs": [
    {
     "data": {
      "text/plain": [
       "(                   id name  status            adset_id         campaign_id  \\\n",
       " 0  120224903624100080  AD1  ACTIVE  120224903624060080  120224903624070080   \n",
       " 1  120224906419920080  AD3  ACTIVE  120224906419930080  120224906419890080   \n",
       " 2  120224907266770080  AD4  ACTIVE  120224907266820080  120224907266750080   \n",
       " 3  120224904466980080  AD2  ACTIVE  120224904466990080  120224903624070080   \n",
       " 4  120224906419910080  AD4  ACTIVE  120224906419970080  120224906419890080   \n",
       " \n",
       "   effective_status                    creative  \\\n",
       " 0     ADSET_PAUSED  {'id': '2594406180904571'}   \n",
       " 1     ADSET_PAUSED  {'id': '1418315172694032'}   \n",
       " 2     ADSET_PAUSED  {'id': '2178986529195170'}   \n",
       " 3     ADSET_PAUSED   {'id': '627314753692200'}   \n",
       " 4     ADSET_PAUSED   {'id': '778352828063508'}   \n",
       " \n",
       "                                       tracking_specs  \\\n",
       " 0  [{'action.type': ['offsite_conversion'], 'fb_p...   \n",
       " 1  [{'action.type': ['offsite_conversion'], 'fb_p...   \n",
       " 2  [{'action.type': ['offsite_conversion'], 'fb_p...   \n",
       " 3  [{'action.type': ['offsite_conversion'], 'fb_p...   \n",
       " 4  [{'action.type': ['offsite_conversion'], 'fb_p...   \n",
       " \n",
       "                created_time              updated_time  \n",
       " 0  2025-05-23T06:14:51-0700  2025-05-23T07:07:19-0700  \n",
       " 1  2025-05-23T06:58:42-0700  2025-05-23T07:05:42-0700  \n",
       " 2  2025-05-23T06:58:17-0700  2025-05-23T07:05:35-0700  \n",
       " 3  2025-05-23T06:59:26-0700  2025-05-23T07:05:25-0700  \n",
       " 4  2025-05-23T06:58:34-0700  2025-05-23T07:04:56-0700  ,\n",
       "                    id                           name  status  \\\n",
       " 0  120224907266840080  THE STATE OF THE WORLD - AD 5  PAUSED   \n",
       " 1  120224907266830080  THE STATE OF THE WORLD - AD 2  PAUSED   \n",
       " 2  120224907266820080  THE STATE OF THE WORLD - AD 4  PAUSED   \n",
       " 3  120224907266810080  THE STATE OF THE WORLD - AD 3  ACTIVE   \n",
       " 4  120224907266740080  THE STATE OF THE WORLD - AD 1  PAUSED   \n",
       " \n",
       "           campaign_id  daily_budget  lifetime_budget             bid_strategy  \\\n",
       " 0  120224907266750080         500.0              0.0  LOWEST_COST_WITHOUT_CAP   \n",
       " 1  120224907266750080         500.0              0.0  LOWEST_COST_WITHOUT_CAP   \n",
       " 2  120224907266750080         500.0              0.0  LOWEST_COST_WITHOUT_CAP   \n",
       " 3  120224907266750080         500.0              0.0  LOWEST_COST_WITHOUT_CAP   \n",
       " 4  120224907266750080         500.0              0.0  LOWEST_COST_WITHOUT_CAP   \n",
       " \n",
       "                                            targeting    optimization_goal  \\\n",
       " 0  {'age_max': 44, 'age_min': 18, 'geo_locations'...  OFFSITE_CONVERSIONS   \n",
       " 1  {'age_max': 44, 'age_min': 18, 'geo_locations'...  OFFSITE_CONVERSIONS   \n",
       " 2  {'age_max': 44, 'age_min': 18, 'geo_locations'...  OFFSITE_CONVERSIONS   \n",
       " 3  {'age_max': 44, 'age_min': 18, 'geo_locations'...  OFFSITE_CONVERSIONS   \n",
       " 4  {'age_max': 44, 'age_min': 18, 'geo_locations'...  OFFSITE_CONVERSIONS   \n",
       " \n",
       "                  start_time pacing_type              created_time  \\\n",
       " 0  2025-05-23T06:57:56-0700  [standard]  2025-05-23T06:57:56-0700   \n",
       " 1  2025-05-23T06:58:06-0700  [standard]  2025-05-23T06:58:06-0700   \n",
       " 2  2025-05-23T06:58:16-0700  [standard]  2025-05-23T06:58:16-0700   \n",
       " 3  2025-05-23T06:58:01-0700  [standard]  2025-05-23T06:58:01-0700   \n",
       " 4  2025-05-23T06:58:12-0700  [standard]  2025-05-23T06:58:12-0700   \n",
       " \n",
       "                updated_time  \n",
       " 0  2025-05-24T08:34:16-0700  \n",
       " 1  2025-05-23T21:58:29-0700  \n",
       " 2  2025-05-24T21:09:19-0700  \n",
       " 3  2025-05-23T06:58:01-0700  \n",
       " 4  2025-05-23T21:58:37-0700  ,\n",
       "                    id                                              name  \\\n",
       " 0  120224907266750080          PIG1987 - THE STATE OF THE WORLD - BROAD   \n",
       " 1  120224906903540080  PIG1987 - THE STATE OF THE WORLD - BROAD SPOTIFY   \n",
       " 2  120224906419890080    PIG1987 - THE STATE OF THE WORLD - HARD TRANCE   \n",
       " 3  120224903624070080         PIG1987 - THE STATE OF THE WORLD - TECHNO   \n",
       " 4  120223459844420080                            THE SOURCE - Streaming   \n",
       " \n",
       "    status           objective                start_time  \\\n",
       " 0  ACTIVE  OUTCOME_ENGAGEMENT  2025-05-23T06:57:56-0700   \n",
       " 1  ACTIVE  OUTCOME_ENGAGEMENT  2025-05-23T06:58:09-0700   \n",
       " 2  PAUSED  OUTCOME_ENGAGEMENT  2025-05-23T06:58:23-0700   \n",
       " 3  ACTIVE  OUTCOME_ENGAGEMENT  2025-05-23T06:14:50-0700   \n",
       " 4  ACTIVE  OUTCOME_ENGAGEMENT  2025-05-02T10:00:00-0700   \n",
       " \n",
       "                created_time              updated_time  \n",
       " 0  2025-05-23T06:57:55-0700  2025-05-24T17:04:26-0700  \n",
       " 1  2025-05-23T06:58:08-0700  2025-05-24T17:04:26-0700  \n",
       " 2  2025-05-23T06:58:22-0700  2025-05-25T13:51:01-0700  \n",
       " 3  2025-05-23T06:14:49-0700  2025-05-24T17:04:26-0700  \n",
       " 4  2025-05-02T09:27:09-0700  2025-05-05T10:10:30-0700  ,\n",
       "           campaign_id  date_start   date_stop  impressions  clicks   spend  \\\n",
       " 0  120224907266750080  2025-05-23  2025-05-26        19751     217   36.42   \n",
       " 1  120224906903540080  2025-05-23  2025-05-26        24213     242   51.50   \n",
       " 2  120224906419890080  2025-05-23  2025-05-26        15864     153   34.61   \n",
       " 3  120224903624070080  2025-05-23  2025-05-26        20157     192   37.61   \n",
       " 4  120223459844420080  2025-05-02  2025-05-26       223162    2553  225.97   \n",
       " \n",
       "     reach       cpc       cpm       cpp  \n",
       " 0   17051  0.167834  1.843957  2.135945  \n",
       " 1   19608  0.212810  2.126957  2.626479  \n",
       " 2   13942  0.226209  2.181669  2.482427  \n",
       " 3   17679  0.195885  1.865853  2.127383  \n",
       " 4  136806  0.088512  1.012583  1.651755  )"
      ]
     },
     "execution_count": 2,
     "metadata": {},
     "output_type": "execute_result"
    }
   ],
   "source": [
    "# Cell 2: Load JSON into DataFrames\n",
    "ads       = pd.read_json(data_dir / \"ads.json\")\n",
    "adsets    = pd.read_json(data_dir / \"adsets.json\")\n",
    "campaigns = pd.read_json(data_dir / \"campaigns.json\")\n",
    "insights  = pd.read_json(data_dir / \"insights.json\")\n",
    "\n",
    "# ensure numeric types for spend/impressions etc.\n",
    "for col in [\"spend\",\"impressions\",\"clicks\",\"reach\"]:\n",
    "    if col in insights.columns:\n",
    "        insights[col] = pd.to_numeric(insights[col], errors=\"coerce\")\n",
    "\n",
    "# quick peek\n",
    "ads.head(), adsets.head(), campaigns.head(), insights.head()\n"
   ]
  },
  {
   "cell_type": "code",
   "execution_count": 3,
   "id": "ec70a6e4",
   "metadata": {},
   "outputs": [
    {
     "name": "stdout",
     "output_type": "stream",
     "text": [
      "        file  rows  columns\n",
      "0        ads    54       10\n",
      "1     adsets    31       13\n",
      "2  campaigns    13        7\n",
      "3   insights    13       10\n"
     ]
    }
   ],
   "source": [
    "# Cell 3: File shapes\n",
    "shapes = pd.DataFrame({\n",
    "    \"file\":       [\"ads\",\"adsets\",\"campaigns\",\"insights\"],\n",
    "    \"rows\":       [ads.shape[0], adsets.shape[0], campaigns.shape[0], insights.shape[0]],\n",
    "    \"columns\":    [ads.shape[1], adsets.shape[1], campaigns.shape[1], insights.shape[1]]\n",
    "})\n",
    "print(shapes)\n"
   ]
  },
  {
   "cell_type": "code",
   "execution_count": 4,
   "id": "678a371a",
   "metadata": {},
   "outputs": [
    {
     "name": "stdout",
     "output_type": "stream",
     "text": [
      "Campaign statuses:\n",
      "    status  count\n",
      "0  PAUSED      9\n",
      "1  ACTIVE      4 \n",
      "\n",
      "Adset statuses:\n",
      "    status  count\n",
      "0  PAUSED     21\n",
      "1  ACTIVE     10 \n",
      "\n",
      "Ad statuses:\n",
      "    status  count\n",
      "0  ACTIVE     32\n",
      "1  PAUSED     22 \n",
      "\n"
     ]
    }
   ],
   "source": [
    "# Cell 4: Status distributions\n",
    "camp_status  = campaigns[\"status\"].value_counts().rename_axis(\"status\").reset_index(name=\"count\")\n",
    "adset_status = adsets   [\"status\"].value_counts().rename_axis(\"status\").reset_index(name=\"count\")\n",
    "ad_status    = ads      [\"status\"].value_counts().rename_axis(\"status\").reset_index(name=\"count\")\n",
    "\n",
    "print(\"Campaign statuses:\\n\",  camp_status, \"\\n\")\n",
    "print(\"Adset statuses:\\n\",   adset_status, \"\\n\")\n",
    "print(\"Ad statuses:\\n\",      ad_status,    \"\\n\")\n"
   ]
  },
  {
   "cell_type": "code",
   "execution_count": 5,
   "id": "97998ae5",
   "metadata": {},
   "outputs": [
    {
     "name": "stdout",
     "output_type": "stream",
     "text": [
      "Adsets per campaign:\n",
      "           campaign_id  adset_count\n",
      "0  120214803933120080            1\n",
      "1  120214961689440080            1\n",
      "2  120215277232180080            1\n",
      "3  120217792461870080            2\n",
      "4  120218067399650080            2 \n",
      "\n",
      "Ads per adset:\n",
      "              adset_id  ads_count\n",
      "0  120214803933310080          3\n",
      "1  120214961689410080          3\n",
      "2  120215277232140080          3\n",
      "3  120217792461860080          3\n",
      "4  120218066028920080          3 \n",
      "\n"
     ]
    }
   ],
   "source": [
    "# Cell 5: Relational counts\n",
    "#  • adsets per campaign\n",
    "adsets_per_campaign = adsets.groupby(\"campaign_id\").size().reset_index(name=\"adset_count\")\n",
    "\n",
    "#  • ads per adset\n",
    "ads_per_adset = ads.groupby(\"adset_id\").size().reset_index(name=\"ads_count\")\n",
    "\n",
    "print(\"Adsets per campaign:\\n\", adsets_per_campaign.head(), \"\\n\")\n",
    "print(\"Ads per adset:\\n\",      ads_per_adset.head(),    \"\\n\")\n"
   ]
  },
  {
   "cell_type": "code",
   "execution_count": 6,
   "id": "99275c21",
   "metadata": {},
   "outputs": [
    {
     "name": "stdout",
     "output_type": "stream",
     "text": [
      "Performance overview:\n",
      "                    id                                              name  \\\n",
      "0  120224907266750080          PIG1987 - THE STATE OF THE WORLD - BROAD   \n",
      "1  120224906903540080  PIG1987 - THE STATE OF THE WORLD - BROAD SPOTIFY   \n",
      "2  120224906419890080    PIG1987 - THE STATE OF THE WORLD - HARD TRANCE   \n",
      "3  120224903624070080         PIG1987 - THE STATE OF THE WORLD - TECHNO   \n",
      "4  120223459844420080                            THE SOURCE - Streaming   \n",
      "\n",
      "            objective         campaign_id  impressions  clicks   spend   reach  \n",
      "0  OUTCOME_ENGAGEMENT  120224907266750080        19751     217   36.42   17051  \n",
      "1  OUTCOME_ENGAGEMENT  120224906903540080        24213     242   51.50   19608  \n",
      "2  OUTCOME_ENGAGEMENT  120224906419890080        15864     153   34.61   13942  \n",
      "3  OUTCOME_ENGAGEMENT  120224903624070080        20157     192   37.61   17679  \n",
      "4  OUTCOME_ENGAGEMENT  120223459844420080       223162    2553  225.97  136806   \n",
      "\n",
      "Performance stats:\n",
      "         impressions       clicks       spend          reach\n",
      "count  1.300000e+01    13.000000   13.000000      13.000000\n",
      "mean   4.035508e+05  2380.307692  144.196923  151399.384615\n",
      "std    6.294637e+05  2377.758517   92.137488  163849.737713\n",
      "min    1.586400e+04   153.000000   34.610000   13942.000000\n",
      "25%    2.421300e+04   242.000000   51.500000   19608.000000\n",
      "50%    1.859020e+05  2553.000000  129.200000  112209.000000\n",
      "75%    5.505630e+05  3387.000000  225.970000  222705.000000\n",
      "max    2.294817e+06  7828.000000  259.370000  580554.000000 \n",
      "\n"
     ]
    }
   ],
   "source": [
    "# Cell 6: Campaign performance overview & stats\n",
    "camp_perf = (\n",
    "    campaigns[[\"id\",\"name\",\"objective\"]]\n",
    "      .merge(insights[[\"campaign_id\",\"impressions\",\"clicks\",\"spend\",\"reach\"]],\n",
    "             left_on=\"id\", right_on=\"campaign_id\", how=\"left\")\n",
    ")\n",
    "\n",
    "perf_stats = camp_perf[[\"impressions\",\"clicks\",\"spend\",\"reach\"]].describe()\n",
    "\n",
    "print(\"Performance overview:\\n\", camp_perf.head(), \"\\n\")\n",
    "print(\"Performance stats:\\n\",   perf_stats,      \"\\n\")\n"
   ]
  },
  {
   "cell_type": "code",
   "execution_count": 7,
   "id": "a1cf3556",
   "metadata": {},
   "outputs": [
    {
     "name": "stdout",
     "output_type": "stream",
     "text": [
      "Spend per campaign:\n",
      "            campaign_id                                              name  \\\n",
      "0   120214803933120080                 THE FEW THAT REMAINED - Streaming   \n",
      "1   120214961689440080                  PIG1987 - DYSMORPHIA - Streaming   \n",
      "2   120215277232180080            ENGAGEMENT PROTOCOL - Streaming - Copy   \n",
      "3   120217792461870080                        PIG1987 - HEAVEN NIGHTCLUB   \n",
      "4   120218067399650080                 ZONE A0 ANOVUS STREAMING CAMPAIGN   \n",
      "5   120218209525770080                       ANOVUS - Streaming - Copy 2   \n",
      "6   120218209686890080     PIG1987 - HEAVEN NIGHTCLUB - Streaming - Copy   \n",
      "7   120222355643880080    PIG1987 - TRANSFORMER ARCHITECTURE - STREAMING   \n",
      "8   120223459844420080                            THE SOURCE - Streaming   \n",
      "9   120224903624070080         PIG1987 - THE STATE OF THE WORLD - TECHNO   \n",
      "10  120224906419890080    PIG1987 - THE STATE OF THE WORLD - HARD TRANCE   \n",
      "11  120224906903540080  PIG1987 - THE STATE OF THE WORLD - BROAD SPOTIFY   \n",
      "12  120224907266750080          PIG1987 - THE STATE OF THE WORLD - BROAD   \n",
      "\n",
      "    total_spend  \n",
      "0        129.20  \n",
      "1        252.99  \n",
      "2        241.34  \n",
      "3         85.07  \n",
      "4         89.21  \n",
      "5        259.37  \n",
      "6        223.30  \n",
      "7        207.97  \n",
      "8        225.97  \n",
      "9         37.61  \n",
      "10        34.61  \n",
      "11        51.50  \n",
      "12        36.42   \n",
      "\n",
      "No adset_id in insights – adset-level spend not available.\n"
     ]
    }
   ],
   "source": [
    "# Cell 7: Spend breakdowns\n",
    "# • Spend per campaign\n",
    "spend_per_campaign = (\n",
    "    insights.groupby(\"campaign_id\")[\"spend\"]\n",
    "            .sum()\n",
    "            .reset_index()\n",
    "            .merge(campaigns[[\"id\",\"name\"]],\n",
    "                   left_on=\"campaign_id\", right_on=\"id\", how=\"left\")\n",
    "            .loc[:, [\"campaign_id\",\"name\",\"spend\"]]\n",
    "            .rename(columns={\"spend\":\"total_spend\"})\n",
    ")\n",
    "\n",
    "print(\"Spend per campaign:\\n\", spend_per_campaign, \"\\n\")\n",
    "\n",
    "# • Spend per adset (if available)\n",
    "if \"adset_id\" in insights.columns:\n",
    "    spend_per_adset = (\n",
    "        insights.groupby(\"adset_id\")[\"spend\"]\n",
    "                .sum()\n",
    "                .reset_index()\n",
    "                .merge(adsets[[\"id\",\"name\"]],\n",
    "                       left_on=\"adset_id\", right_on=\"id\", how=\"left\")\n",
    "                .loc[:, [\"adset_id\",\"name\",\"spend\"]]\n",
    "                .rename(columns={\"spend\":\"total_spend\"})\n",
    "    )\n",
    "    print(\"Spend per adset:\\n\", spend_per_adset)\n",
    "else:\n",
    "    print(\"No adset_id in insights – adset-level spend not available.\")\n"
   ]
  },
  {
   "cell_type": "code",
   "execution_count": null,
   "id": "5bd9dd81",
   "metadata": {},
   "outputs": [],
   "source": []
  }
 ],
 "metadata": {
  "kernelspec": {
   "display_name": ".venv",
   "language": "python",
   "name": "python3"
  },
  "language_info": {
   "codemirror_mode": {
    "name": "ipython",
    "version": 3
   },
   "file_extension": ".py",
   "mimetype": "text/x-python",
   "name": "python",
   "nbconvert_exporter": "python",
   "pygments_lexer": "ipython3",
   "version": "3.11.9"
  }
 },
 "nbformat": 4,
 "nbformat_minor": 5
}
