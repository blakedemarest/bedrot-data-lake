{
 "cells": [
  {
   "cell_type": "code",
   "execution_count": 1,
   "id": "3fe9abd2",
   "metadata": {},
   "outputs": [],
   "source": [
    "# ─── Cell 1: Imports & Environment Setup ────────────────────────────────────────\n",
    "import os\n",
    "from pathlib import Path\n",
    "import hashlib, datetime, shutil\n",
    "from dotenv import load_dotenv\n",
    "import pandas as pd\n",
    "\n",
    "load_dotenv()\n",
    "PROJECT_ROOT = Path(os.getenv(\"PROJECT_ROOT\"))\n",
    "STAGING = PROJECT_ROOT / os.getenv(\"STAGING_ZONE\",  \"staging\")\n",
    "CURATED = PROJECT_ROOT / os.getenv(\"CURATED_ZONE\",  \"curated\")\n",
    "ARCHIVE = PROJECT_ROOT / os.getenv(\"ARCHIVE_ZONE\",  \"archive\")\n"
   ]
  },
  {
   "cell_type": "code",
   "execution_count": 2,
   "id": "c9043268",
   "metadata": {},
   "outputs": [],
   "source": [
    "# ─── Cell 2: Merge TooLost Data & Enforce Types / Order ─────────────────────────\n",
    "toolost_src = STAGING / \"daily_streams_toolost.csv\"\n",
    "df_toolost  = pd.read_csv(toolost_src, parse_dates=[\"date\"])\n",
    "df_toolost[\"source\"] = \"toolost\"\n",
    "\n",
    "curated_path = CURATED / \"tidy_daily_streams.csv\"\n",
    "if curated_path.exists():\n",
    "    df_curated = pd.read_csv(curated_path, parse_dates=[\"date\"])\n",
    "    # drop old TooLost rows\n",
    "    df_curated = df_curated[df_curated[\"source\"] != \"toolost\"]\n",
    "    new_curated = pd.concat([df_curated, df_toolost], ignore_index=True)\n",
    "else:\n",
    "    curated_path.parent.mkdir(parents=True, exist_ok=True)\n",
    "    new_curated = df_toolost\n",
    "\n",
    "# convert numeric columns to int\n",
    "num_cols = [c for c in new_curated.columns if c not in (\"date\", \"source\")]\n",
    "new_curated[num_cols] = new_curated[num_cols].round().astype(\"int64\")\n",
    "\n",
    "# order: distrokid rows first, then toolost; dates ascending inside each source\n",
    "source_cat = pd.CategoricalDtype(categories=[\"distrokid\", \"toolost\"], ordered=True)\n",
    "new_curated[\"source\"] = new_curated[\"source\"].astype(source_cat)\n",
    "new_curated = (new_curated\n",
    "               .sort_values([\"source\", \"date\"])\n",
    "               .reset_index(drop=True))\n"
   ]
  },
  {
   "cell_type": "code",
   "execution_count": 3,
   "id": "ec90fbd0",
   "metadata": {},
   "outputs": [
    {
     "name": "stdout",
     "output_type": "stream",
     "text": [
      "📦 Archived prior snapshot → archive\\tidy_daily_streams_20250529T081926.csv\n",
      "✅ Curated updated          → curated\\tidy_daily_streams.csv\n"
     ]
    }
   ],
   "source": [
    "# ─── Cell 3: Save & Archive if Changed ─────────────────────────────────────────\n",
    "def file_hash(p: Path) -> str: return hashlib.md5(p.read_bytes()).hexdigest()\n",
    "def df_hash(df) -> str:        return hashlib.md5(df.to_csv(index=False).encode()).hexdigest()\n",
    "\n",
    "if curated_path.exists() and file_hash(curated_path) == df_hash(new_curated):\n",
    "    print(\"↩︎ No changes – curated already up-to-date.\")\n",
    "else:\n",
    "    if curated_path.exists():                       # archive prior version\n",
    "        ts   = datetime.datetime.now().strftime(\"%Y%m%dT%H%M%S\")\n",
    "        ARCHIVE.mkdir(parents=True, exist_ok=True)\n",
    "        arch = ARCHIVE / f\"tidy_daily_streams_{ts}.csv\"\n",
    "        shutil.copy2(curated_path, arch)\n",
    "        print(f\"📦 Archived prior snapshot → {arch.relative_to(PROJECT_ROOT)}\")\n",
    "\n",
    "    new_curated.to_csv(curated_path, index=False)\n",
    "    print(f\"✅ Curated updated          → {curated_path.relative_to(PROJECT_ROOT)}\")\n"
   ]
  },
  {
   "cell_type": "code",
   "execution_count": null,
   "id": "a8c1104d",
   "metadata": {},
   "outputs": [],
   "source": []
  }
 ],
 "metadata": {
  "kernelspec": {
   "display_name": ".venv",
   "language": "python",
   "name": "python3"
  },
  "language_info": {
   "codemirror_mode": {
    "name": "ipython",
    "version": 3
   },
   "file_extension": ".py",
   "mimetype": "text/x-python",
   "name": "python",
   "nbconvert_exporter": "python",
   "pygments_lexer": "ipython3",
   "version": "3.11.9"
  }
 },
 "nbformat": 4,
 "nbformat_minor": 5
}
