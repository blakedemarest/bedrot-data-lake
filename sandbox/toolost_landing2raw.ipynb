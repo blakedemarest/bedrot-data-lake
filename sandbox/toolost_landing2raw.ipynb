{
 "cells": [
  {
   "cell_type": "code",
   "execution_count": 1,
   "id": "0688d547",
   "metadata": {},
   "outputs": [],
   "source": [
    "# ─── Cell 1: Imports & Environment Setup ────────────────────────────────────────\n",
    "import os, hashlib, shutil, json, glob\n",
    "from pathlib import Path\n",
    "from datetime import datetime\n",
    "from dotenv import load_dotenv\n",
    "import pandas as pd\n",
    "\n",
    "load_dotenv()\n",
    "PROJECT_ROOT = Path(os.getenv(\"PROJECT_ROOT\"))\n",
    "LANDING      = PROJECT_ROOT / os.getenv(\"LANDING_ZONE\",  \"landing\")\n",
    "RAW          = PROJECT_ROOT / os.getenv(\"RAW_ZONE\",      \"raw\")\n"
   ]
  },
  {
   "cell_type": "code",
   "execution_count": 2,
   "id": "355cbf96",
   "metadata": {},
   "outputs": [],
   "source": [
    "# ─── Cell 2: TooLost JSON-Schema Validators ─────────────────────────────────────\n",
    "import re\n",
    "\n",
    "_date_re = re.compile(r\"^\\d{4}-\\d{2}-\\d{2}$\")\n",
    "def _is_date(s): return bool(_date_re.match(str(s)))\n",
    "\n",
    "def validate_spotify(obj):\n",
    "    if not isinstance(obj, dict) or \"streams\" not in obj:\n",
    "        return False, \"missing key 'streams'\"\n",
    "    for rec in obj[\"streams\"]:\n",
    "        if not (_is_date(rec.get(\"date\")) and str(rec.get(\"streams\")).isdigit()):\n",
    "            return False, f\"bad record {rec}\"\n",
    "    return True, \"OK\"\n",
    "\n",
    "def validate_apple(obj):\n",
    "    if not isinstance(obj, dict) or \"totalStreams\" not in obj:\n",
    "        return False, \"missing key 'totalStreams'\"\n",
    "    for rec in obj[\"totalStreams\"]:\n",
    "        if not (_is_date(rec.get(\"date\")) and isinstance(rec.get(\"streams\"), int)):\n",
    "            return False, f\"bad record {rec}\"\n",
    "    return True, \"OK\"\n",
    "\n",
    "def validate_toolost_json(path: Path):\n",
    "    data = json.loads(path.read_text(encoding=\"utf-8\"))\n",
    "    if \"streams\"      in data: return validate_spotify(data)\n",
    "    if \"totalStreams\" in data: return validate_apple(data)\n",
    "    return False, \"unknown schema\"\n"
   ]
  },
  {
   "cell_type": "code",
   "execution_count": 3,
   "id": "ba684431",
   "metadata": {},
   "outputs": [
    {
     "name": "stdout",
     "output_type": "stream",
     "text": [
      "↩︎ toolost_apple_20250522_124556.json       already in raw (hash match)\n",
      "↩︎ toolost_apple_20250526_134925.json       already in raw (hash match)\n",
      "↩︎ toolost_apple_20250526_135447.json       already in raw (hash match)\n",
      "↩︎ toolost_apple_20250526_140337.json       already in raw (hash match)\n",
      "↩︎ toolost_apple_20250526_141126.json       already in raw (hash match)\n",
      "↩︎ toolost_spotify_20250522_124556.json     already in raw (hash match)\n",
      "↩︎ toolost_spotify_20250526_135447.json     already in raw (hash match)\n",
      "↩︎ toolost_spotify_20250526_140337.json     already in raw (hash match)\n",
      "↩︎ toolost_spotify_20250526_141126.json     already in raw (hash match)\n",
      "\n",
      "Summary: promoted=0, skipped/invalid=0\n"
     ]
    }
   ],
   "source": [
    "# ─── Cell 3: Promote Valid Landing Files to RAW Zone ────────────────────────────\n",
    "landing_dir = LANDING / \"toolost\" / \"streams\"\n",
    "raw_dir     = RAW     / \"toolost\" / \"streams\"\n",
    "landing_dir.mkdir(parents=True, exist_ok=True)\n",
    "raw_dir.mkdir(parents=True, exist_ok=True)\n",
    "\n",
    "promoted, skipped = [], []\n",
    "for file in sorted(landing_dir.glob(\"*.json\")):\n",
    "    valid, msg = validate_toolost_json(file)\n",
    "    if not valid:\n",
    "        print(f\"❌ {file.name:40} {msg}\")\n",
    "        skipped.append(file.name)\n",
    "        continue\n",
    "\n",
    "    tgt = raw_dir / file.name\n",
    "    if tgt.exists() and hashlib.md5(tgt.read_bytes()).hexdigest() == hashlib.md5(file.read_bytes()).hexdigest():\n",
    "        print(f\"↩︎ {file.name:40} already in raw (hash match)\")\n",
    "        continue\n",
    "\n",
    "    if tgt.exists():  # name clash but different hash → version it\n",
    "        ts  = datetime.now().strftime(\"%Y%m%dT%H%M%S\")\n",
    "        tgt = raw_dir / f\"{file.stem}__{ts}{file.suffix}\"\n",
    "\n",
    "    shutil.copy2(file, tgt)\n",
    "    print(f\"✅ {file.name:40} → {tgt.name}\")\n",
    "    promoted.append(tgt.name)\n",
    "\n",
    "print(\"\\nSummary:\", f\"promoted={len(promoted)}, skipped/invalid={len(skipped)}\")\n"
   ]
  },
  {
   "cell_type": "code",
   "execution_count": null,
   "id": "5c4ded80",
   "metadata": {},
   "outputs": [],
   "source": []
  }
 ],
 "metadata": {
  "kernelspec": {
   "display_name": ".venv",
   "language": "python",
   "name": "python3"
  },
  "language_info": {
   "codemirror_mode": {
    "name": "ipython",
    "version": 3
   },
   "file_extension": ".py",
   "mimetype": "text/x-python",
   "name": "python",
   "nbconvert_exporter": "python",
   "pygments_lexer": "ipython3",
   "version": "3.11.9"
  }
 },
 "nbformat": 4,
 "nbformat_minor": 5
}
